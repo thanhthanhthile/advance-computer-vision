{
  "nbformat": 4,
  "nbformat_minor": 0,
  "metadata": {
    "colab": {
      "name": "GradientDescentTF.ipynb",
      "provenance": [],
      "collapsed_sections": []
    },
    "kernelspec": {
      "name": "python3",
      "display_name": "Python 3"
    },
    "language_info": {
      "name": "python"
    }
  },
  "cells": [
    {
      "cell_type": "markdown",
      "source": [
        "# DÙNG TENSORFLOW"
      ],
      "metadata": {
        "id": "n9g6MbnY1a0Y"
      }
    },
    {
      "cell_type": "markdown",
      "source": [
        "Họ tên: Lê Thị Thanh Thanh\n",
        "\n",
        "MSSV: 19520954"
      ],
      "metadata": {
        "id": "Zt9BF5rS4bld"
      }
    },
    {
      "cell_type": "code",
      "execution_count": 18,
      "metadata": {
        "id": "f6uH3HF91Xdl"
      },
      "outputs": [],
      "source": [
        "import numpy as np\n",
        "import tensorflow as tf"
      ]
    },
    {
      "cell_type": "code",
      "source": [
        "theta0 = tf.Variable(-1.0)\n",
        "theta1 = tf.Variable(-1.0)\n",
        "eps = 0.0001\n",
        "loss = lambda : (theta0 - 3)**2 + (theta1 - 4)**2 + theta0**2 - 2*theta0 + 3*(theta1**2)\n",
        "opt = tf.keras.optimizers.SGD(learning_rate=0.01)"
      ],
      "metadata": {
        "id": "2pxn2t3a1p4T"
      },
      "execution_count": 19,
      "outputs": []
    },
    {
      "cell_type": "code",
      "source": [
        "for i in range(500):\n",
        "  opt.minimize(loss, var_list=[theta0, theta1])\n",
        "\n",
        "print(theta0)\n",
        "print(theta1)"
      ],
      "metadata": {
        "colab": {
          "base_uri": "https://localhost:8080/"
        },
        "id": "U5twH4DA2ewF",
        "outputId": "aa91112e-eaed-45ac-ed55-5a851cf61cf7"
      },
      "execution_count": 21,
      "outputs": [
        {
          "output_type": "stream",
          "name": "stdout",
          "text": [
            "<tf.Variable 'Variable:0' shape=() dtype=float32, numpy=1.9999986>\n",
            "<tf.Variable 'Variable:0' shape=() dtype=float32, numpy=0.99999964>\n"
          ]
        }
      ]
    }
  ]
}