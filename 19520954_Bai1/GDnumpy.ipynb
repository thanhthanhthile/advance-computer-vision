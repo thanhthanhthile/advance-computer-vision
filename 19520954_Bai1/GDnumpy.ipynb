{
  "nbformat": 4,
  "nbformat_minor": 0,
  "metadata": {
    "colab": {
      "name": "GradientDescentNUMPY.ipynb",
      "provenance": [],
      "collapsed_sections": []
    },
    "kernelspec": {
      "name": "python3",
      "display_name": "Python 3"
    },
    "language_info": {
      "name": "python"
    }
  },
  "cells": [
    {
      "cell_type": "markdown",
      "source": [
        "# DÙNG NUMPY\n"
      ],
      "metadata": {
        "id": "92RTnZCvzmN6"
      }
    },
    {
      "cell_type": "markdown",
      "source": [
        "Họ tên: Lê Thị Thanh Thanh\n",
        "\n",
        "MSSV: 19520954"
      ],
      "metadata": {
        "id": "Zt9BF5rS4bld"
      }
    },
    {
      "cell_type": "markdown",
      "source": [
        "Thư viện cần thiết"
      ],
      "metadata": {
        "id": "_sWFUl_ncHXo"
      }
    },
    {
      "cell_type": "code",
      "execution_count": 85,
      "metadata": {
        "id": "W3efIHupbw1P"
      },
      "outputs": [],
      "source": [
        "import numpy as np"
      ]
    },
    {
      "cell_type": "markdown",
      "source": [
        "Định nghĩa hàm *Loss*"
      ],
      "metadata": {
        "id": "phgVeH7lcOKc"
      }
    },
    {
      "cell_type": "code",
      "source": [
        "def Loss(theta0, theta1):\n",
        "  return (theta0 - 3)**2 + (theta1 - 4)**2 + theta0**2 - 2*theta0 + 3*(theta1**2)"
      ],
      "metadata": {
        "id": "vGzk95HycNuT"
      },
      "execution_count": 86,
      "outputs": []
    },
    {
      "cell_type": "markdown",
      "source": [
        "Đạo hàm của hàm L(theta0)"
      ],
      "metadata": {
        "id": "LI6HQM6zgMmd"
      }
    },
    {
      "cell_type": "code",
      "source": [
        "def DerLoss_theta0(theta0):\n",
        "  return 4*theta0 - 8"
      ],
      "metadata": {
        "id": "QeEuUVtvdcr6"
      },
      "execution_count": 87,
      "outputs": []
    },
    {
      "cell_type": "markdown",
      "source": [
        "Đạo hàm của hàm L(theta1)"
      ],
      "metadata": {
        "id": "2i6X90mtgThI"
      }
    },
    {
      "cell_type": "code",
      "source": [
        "def DerLoss_theta1(theta1):\n",
        "  return 8*theta1 - 8"
      ],
      "metadata": {
        "id": "XjpOfY8tgTMM"
      },
      "execution_count": 88,
      "outputs": []
    },
    {
      "cell_type": "code",
      "source": [
        "def DerLoss(theta0, theta1):\n",
        "  return np.array([DerLoss_theta0(theta0), DerLoss_theta1(theta1)])"
      ],
      "metadata": {
        "id": "g9o07bhXmE_K"
      },
      "execution_count": 89,
      "outputs": []
    },
    {
      "cell_type": "markdown",
      "source": [
        "Tạo tham số"
      ],
      "metadata": {
        "id": "Hb9O07zrgulL"
      }
    },
    {
      "cell_type": "code",
      "source": [
        "arr_theta = [-1,-1]\n",
        "alpha = 0.1\n",
        "eps = 0.0001"
      ],
      "metadata": {
        "id": "uG9R_9qugKWw"
      },
      "execution_count": 90,
      "outputs": []
    },
    {
      "cell_type": "markdown",
      "source": [
        "Vòng lặp"
      ],
      "metadata": {
        "id": "p5YytOhvg2qL"
      }
    },
    {
      "cell_type": "code",
      "source": [
        "t = arr_theta\n",
        "i = 0\n",
        "while True:\n",
        "  t = t - alpha*DerLoss(t[0], t[1])\n",
        "  \n",
        "  if abs(DerLoss_theta0(t[0])) < eps and abs(DerLoss_theta1(t[1])) < eps:\n",
        "    break                                         \n",
        "  i+=1\n",
        "\n",
        "print(\"Gia tri nho nhat cua ham Loss: \", Loss(t[0], t[1]))\n",
        "print(\"Khi theta0 = \", t[0])\n",
        "print(\"Khi theta1 = \", t[1])"
      ],
      "metadata": {
        "colab": {
          "base_uri": "https://localhost:8080/"
        },
        "id": "MX-tYLdTg2Yi",
        "outputId": "8ace549c-c18b-4617-b87f-b36f2926ec5e"
      },
      "execution_count": 91,
      "outputs": [
        {
          "output_type": "stream",
          "name": "stdout",
          "text": [
            "Gia tri nho nhat cua ham Loss:  13.000000001122611\n",
            "Khi theta0 =  1.9999763080933084\n",
            "Khi theta1 =  0.9999999999999998\n"
          ]
        }
      ]
    }
  ]
}