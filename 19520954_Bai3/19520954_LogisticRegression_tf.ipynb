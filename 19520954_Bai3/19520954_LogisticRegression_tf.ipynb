{
  "nbformat": 4,
  "nbformat_minor": 0,
  "metadata": {
    "colab": {
      "name": "LogisticRegression_tf.ipynb",
      "provenance": []
    },
    "kernelspec": {
      "name": "python3",
      "display_name": "Python 3"
    },
    "language_info": {
      "name": "python"
    }
  },
  "cells": [
    {
      "cell_type": "markdown",
      "source": [
        "MSSV: 19520954\n",
        "\n",
        "Tên: Lê Thị Thanh Thanh"
      ],
      "metadata": {
        "id": "FdCMB-xJ289A"
      }
    },
    {
      "cell_type": "markdown",
      "source": [
        "# Các thư viện cần thiết"
      ],
      "metadata": {
        "id": "YbRUNLbj3MNS"
      }
    },
    {
      "cell_type": "code",
      "execution_count": null,
      "metadata": {
        "id": "IkiVoeCb23R0"
      },
      "outputs": [],
      "source": [
        "import tensorflow as tf\n",
        "import numpy as np\n",
        "import pandas as pd\n",
        "from tensorflow import keras\n",
        "import matplotlib.pyplot as plt\n",
        "from sklearn.datasets import load_iris\n",
        "from sklearn.model_selection import train_test_split"
      ]
    },
    {
      "cell_type": "markdown",
      "source": [
        "# Dữ liệu iris (lấy 2 features đầu và 2 lớp đầu)"
      ],
      "metadata": {
        "id": "JY6Ay78Lb3J8"
      }
    },
    {
      "cell_type": "code",
      "source": [
        "iris = load_iris()\n",
        "X = iris.data[:, :2]\n",
        "X = X[:100]\n",
        "y = iris.target\n",
        "y = y[:100]\n",
        "dataset = pd.DataFrame(data=np.concatenate((X, y.reshape(-1,1)),axis=1),columns=['sepal length','sepal width','target'])"
      ],
      "metadata": {
        "id": "jd4KAmGzb23e"
      },
      "execution_count": 65,
      "outputs": []
    },
    {
      "cell_type": "code",
      "source": [
        "dataset.tail()"
      ],
      "metadata": {
        "colab": {
          "base_uri": "https://localhost:8080/",
          "height": 206
        },
        "id": "1pl9rtVNDdH7",
        "outputId": "b636bcca-c3b5-4e37-80ac-cfa7c0fa5af8"
      },
      "execution_count": 67,
      "outputs": [
        {
          "output_type": "execute_result",
          "data": {
            "text/plain": [
              "    sepal length  sepal width  target\n",
              "95           5.7          3.0     1.0\n",
              "96           5.7          2.9     1.0\n",
              "97           6.2          2.9     1.0\n",
              "98           5.1          2.5     1.0\n",
              "99           5.7          2.8     1.0"
            ],
            "text/html": [
              "\n",
              "  <div id=\"df-bd789a08-90c7-4478-8520-e32ac32edc3d\">\n",
              "    <div class=\"colab-df-container\">\n",
              "      <div>\n",
              "<style scoped>\n",
              "    .dataframe tbody tr th:only-of-type {\n",
              "        vertical-align: middle;\n",
              "    }\n",
              "\n",
              "    .dataframe tbody tr th {\n",
              "        vertical-align: top;\n",
              "    }\n",
              "\n",
              "    .dataframe thead th {\n",
              "        text-align: right;\n",
              "    }\n",
              "</style>\n",
              "<table border=\"1\" class=\"dataframe\">\n",
              "  <thead>\n",
              "    <tr style=\"text-align: right;\">\n",
              "      <th></th>\n",
              "      <th>sepal length</th>\n",
              "      <th>sepal width</th>\n",
              "      <th>target</th>\n",
              "    </tr>\n",
              "  </thead>\n",
              "  <tbody>\n",
              "    <tr>\n",
              "      <th>95</th>\n",
              "      <td>5.7</td>\n",
              "      <td>3.0</td>\n",
              "      <td>1.0</td>\n",
              "    </tr>\n",
              "    <tr>\n",
              "      <th>96</th>\n",
              "      <td>5.7</td>\n",
              "      <td>2.9</td>\n",
              "      <td>1.0</td>\n",
              "    </tr>\n",
              "    <tr>\n",
              "      <th>97</th>\n",
              "      <td>6.2</td>\n",
              "      <td>2.9</td>\n",
              "      <td>1.0</td>\n",
              "    </tr>\n",
              "    <tr>\n",
              "      <th>98</th>\n",
              "      <td>5.1</td>\n",
              "      <td>2.5</td>\n",
              "      <td>1.0</td>\n",
              "    </tr>\n",
              "    <tr>\n",
              "      <th>99</th>\n",
              "      <td>5.7</td>\n",
              "      <td>2.8</td>\n",
              "      <td>1.0</td>\n",
              "    </tr>\n",
              "  </tbody>\n",
              "</table>\n",
              "</div>\n",
              "      <button class=\"colab-df-convert\" onclick=\"convertToInteractive('df-bd789a08-90c7-4478-8520-e32ac32edc3d')\"\n",
              "              title=\"Convert this dataframe to an interactive table.\"\n",
              "              style=\"display:none;\">\n",
              "        \n",
              "  <svg xmlns=\"http://www.w3.org/2000/svg\" height=\"24px\"viewBox=\"0 0 24 24\"\n",
              "       width=\"24px\">\n",
              "    <path d=\"M0 0h24v24H0V0z\" fill=\"none\"/>\n",
              "    <path d=\"M18.56 5.44l.94 2.06.94-2.06 2.06-.94-2.06-.94-.94-2.06-.94 2.06-2.06.94zm-11 1L8.5 8.5l.94-2.06 2.06-.94-2.06-.94L8.5 2.5l-.94 2.06-2.06.94zm10 10l.94 2.06.94-2.06 2.06-.94-2.06-.94-.94-2.06-.94 2.06-2.06.94z\"/><path d=\"M17.41 7.96l-1.37-1.37c-.4-.4-.92-.59-1.43-.59-.52 0-1.04.2-1.43.59L10.3 9.45l-7.72 7.72c-.78.78-.78 2.05 0 2.83L4 21.41c.39.39.9.59 1.41.59.51 0 1.02-.2 1.41-.59l7.78-7.78 2.81-2.81c.8-.78.8-2.07 0-2.86zM5.41 20L4 18.59l7.72-7.72 1.47 1.35L5.41 20z\"/>\n",
              "  </svg>\n",
              "      </button>\n",
              "      \n",
              "  <style>\n",
              "    .colab-df-container {\n",
              "      display:flex;\n",
              "      flex-wrap:wrap;\n",
              "      gap: 12px;\n",
              "    }\n",
              "\n",
              "    .colab-df-convert {\n",
              "      background-color: #E8F0FE;\n",
              "      border: none;\n",
              "      border-radius: 50%;\n",
              "      cursor: pointer;\n",
              "      display: none;\n",
              "      fill: #1967D2;\n",
              "      height: 32px;\n",
              "      padding: 0 0 0 0;\n",
              "      width: 32px;\n",
              "    }\n",
              "\n",
              "    .colab-df-convert:hover {\n",
              "      background-color: #E2EBFA;\n",
              "      box-shadow: 0px 1px 2px rgba(60, 64, 67, 0.3), 0px 1px 3px 1px rgba(60, 64, 67, 0.15);\n",
              "      fill: #174EA6;\n",
              "    }\n",
              "\n",
              "    [theme=dark] .colab-df-convert {\n",
              "      background-color: #3B4455;\n",
              "      fill: #D2E3FC;\n",
              "    }\n",
              "\n",
              "    [theme=dark] .colab-df-convert:hover {\n",
              "      background-color: #434B5C;\n",
              "      box-shadow: 0px 1px 3px 1px rgba(0, 0, 0, 0.15);\n",
              "      filter: drop-shadow(0px 1px 2px rgba(0, 0, 0, 0.3));\n",
              "      fill: #FFFFFF;\n",
              "    }\n",
              "  </style>\n",
              "\n",
              "      <script>\n",
              "        const buttonEl =\n",
              "          document.querySelector('#df-bd789a08-90c7-4478-8520-e32ac32edc3d button.colab-df-convert');\n",
              "        buttonEl.style.display =\n",
              "          google.colab.kernel.accessAllowed ? 'block' : 'none';\n",
              "\n",
              "        async function convertToInteractive(key) {\n",
              "          const element = document.querySelector('#df-bd789a08-90c7-4478-8520-e32ac32edc3d');\n",
              "          const dataTable =\n",
              "            await google.colab.kernel.invokeFunction('convertToInteractive',\n",
              "                                                     [key], {});\n",
              "          if (!dataTable) return;\n",
              "\n",
              "          const docLinkHtml = 'Like what you see? Visit the ' +\n",
              "            '<a target=\"_blank\" href=https://colab.research.google.com/notebooks/data_table.ipynb>data table notebook</a>'\n",
              "            + ' to learn more about interactive tables.';\n",
              "          element.innerHTML = '';\n",
              "          dataTable['output_type'] = 'display_data';\n",
              "          await google.colab.output.renderOutput(dataTable, element);\n",
              "          const docLink = document.createElement('div');\n",
              "          docLink.innerHTML = docLinkHtml;\n",
              "          element.appendChild(docLink);\n",
              "        }\n",
              "      </script>\n",
              "    </div>\n",
              "  </div>\n",
              "  "
            ]
          },
          "metadata": {},
          "execution_count": 67
        }
      ]
    },
    {
      "cell_type": "code",
      "source": [
        "dataset['target'].value_counts()"
      ],
      "metadata": {
        "colab": {
          "base_uri": "https://localhost:8080/"
        },
        "id": "J1xAjLztMb2G",
        "outputId": "8bee6097-c734-43cd-f49d-21ac64e0f1d6"
      },
      "execution_count": 68,
      "outputs": [
        {
          "output_type": "execute_result",
          "data": {
            "text/plain": [
              "0.0    50\n",
              "1.0    50\n",
              "Name: target, dtype: int64"
            ]
          },
          "metadata": {},
          "execution_count": 68
        }
      ]
    },
    {
      "cell_type": "code",
      "source": [
        "X_train, X_test, y_train, y_test = train_test_split(X, y, train_size=0.8)"
      ],
      "metadata": {
        "id": "PgKnra_Xb_fF"
      },
      "execution_count": 69,
      "outputs": []
    },
    {
      "cell_type": "code",
      "source": [
        "plt.figure(2, figsize=(8, 6))\n",
        "plt.clf()\n",
        "\n",
        "# Plot the training points\n",
        "plt.scatter(X_train[:, 0], X_train[:, 1], c=y_train, cmap=plt.cm.Set1, edgecolor=\"k\")\n",
        "plt.title('TRAINING DATA')\n",
        "plt.xlabel(\"Sepal length\")\n",
        "plt.ylabel(\"Sepal width\")\n",
        "plt.show()"
      ],
      "metadata": {
        "colab": {
          "base_uri": "https://localhost:8080/",
          "height": 404
        },
        "id": "UijrGw30HKH5",
        "outputId": "918f9be6-214c-4412-f4dc-9486c5ff2d1c"
      },
      "execution_count": 75,
      "outputs": [
        {
          "output_type": "display_data",
          "data": {
            "text/plain": [
              "<Figure size 576x432 with 1 Axes>"
            ],
            "image/png": "[encoded data removed]"
          },
          "metadata": {
            "needs_background": "light"
          }
        }
      ]
    },
    {
      "cell_type": "markdown",
      "source": [
        "# Logistic Regression"
      ],
      "metadata": {
        "id": "OncTvlkJcTCZ"
      }
    },
    {
      "cell_type": "code",
      "source": [
        "i = tf.keras.layers.Input(shape=(2))\n",
        "X = tf.keras.layers.Dense(2,activation='sigmoid')(i)\n",
        "model = tf.keras.models.Model(i,X)"
      ],
      "metadata": {
        "id": "P4IQukaXBxl2"
      },
      "execution_count": 76,
      "outputs": []
    },
    {
      "cell_type": "code",
      "source": [
        "model.compile(optimizer='sgd', loss=tf.keras.losses.sparse_categorical_crossentropy, metrics=['accuracy'])"
      ],
      "metadata": {
        "id": "l8lIdhhd1acS"
      },
      "execution_count": 77,
      "outputs": []
    },
    {
      "cell_type": "code",
      "source": [
        "model.summary()"
      ],
      "metadata": {
        "colab": {
          "base_uri": "https://localhost:8080/"
        },
        "id": "KlOMxSVs2VwX",
        "outputId": "cf79f36f-3de7-402e-fc25-b8ffc62149c6"
      },
      "execution_count": 78,
      "outputs": [
        {
          "output_type": "stream",
          "name": "stdout",
          "text": [
            "Model: \"model_5\"\n",
            "_________________________________________________________________\n",
            " Layer (type)                Output Shape              Param #   \n",
            "=================================================================\n",
            " input_6 (InputLayer)        [(None, 2)]               0         \n",
            "                                                                 \n",
            " dense_5 (Dense)             (None, 2)                 6         \n",
            "                                                                 \n",
            "=================================================================\n",
            "Total params: 6\n",
            "Trainable params: 6\n",
            "Non-trainable params: 0\n",
            "_________________________________________________________________\n"
          ]
        }
      ]
    },
    {
      "cell_type": "code",
      "source": [
        "history = model.fit(X_train, y_train.reshape(-1), epochs=200)"
      ],
      "metadata": {
        "colab": {
          "base_uri": "https://localhost:8080/"
        },
        "id": "1twaNpf811KZ",
        "outputId": "4bea23b7-79ca-414a-f184-4b71e4e6a822"
      },
      "execution_count": 79,
      "outputs": [
        {
          "output_type": "stream",
          "name": "stdout",
          "text": [
            "Epoch 1/200\n",
            "3/3 [==============================] - 0s 3ms/step - loss: 2.2206 - accuracy: 0.4625\n",
            "Epoch 2/200\n",
            "3/3 [==============================] - 0s 4ms/step - loss: 1.5971 - accuracy: 0.4625\n",
            "Epoch 3/200\n",
            "3/3 [==============================] - 0s 3ms/step - loss: 1.1073 - accuracy: 0.4625\n",
            "Epoch 4/200\n",
            "3/3 [==============================] - 0s 3ms/step - loss: 0.7465 - accuracy: 0.4625\n",
            "Epoch 5/200\n",
            "3/3 [==============================] - 0s 3ms/step - loss: 0.5381 - accuracy: 0.5375\n",
            "Epoch 6/200\n",
            "3/3 [==============================] - 0s 3ms/step - loss: 0.4427 - accuracy: 0.8625\n",
            "Epoch 7/200\n",
            "3/3 [==============================] - 0s 3ms/step - loss: 0.4137 - accuracy: 0.9875\n",
            "Epoch 8/200\n",
            "3/3 [==============================] - 0s 3ms/step - loss: 0.4063 - accuracy: 0.9875\n",
            "Epoch 9/200\n",
            "3/3 [==============================] - 0s 3ms/step - loss: 0.4026 - accuracy: 0.9875\n",
            "Epoch 10/200\n",
            "3/3 [==============================] - 0s 5ms/step - loss: 0.4000 - accuracy: 0.9875\n",
            "Epoch 11/200\n",
            "3/3 [==============================] - 0s 4ms/step - loss: 0.3976 - accuracy: 0.9625\n",
            "Epoch 12/200\n",
            "3/3 [==============================] - 0s 3ms/step - loss: 0.3958 - accuracy: 0.9750\n",
            "Epoch 13/200\n",
            "3/3 [==============================] - 0s 3ms/step - loss: 0.3943 - accuracy: 0.9750\n",
            "Epoch 14/200\n",
            "3/3 [==============================] - 0s 3ms/step - loss: 0.3928 - accuracy: 0.9625\n",
            "Epoch 15/200\n",
            "3/3 [==============================] - 0s 3ms/step - loss: 0.3938 - accuracy: 0.9625\n",
            "Epoch 16/200\n",
            "3/3 [==============================] - 0s 3ms/step - loss: 0.3900 - accuracy: 0.9750\n",
            "Epoch 17/200\n",
            "3/3 [==============================] - 0s 3ms/step - loss: 0.3889 - accuracy: 0.9750\n",
            "Epoch 18/200\n",
            "3/3 [==============================] - 0s 3ms/step - loss: 0.3872 - accuracy: 0.9625\n",
            "Epoch 19/200\n",
            "3/3 [==============================] - 0s 3ms/step - loss: 0.3873 - accuracy: 0.9625\n",
            "Epoch 20/200\n",
            "3/3 [==============================] - 0s 3ms/step - loss: 0.3845 - accuracy: 0.9625\n",
            "Epoch 21/200\n",
            "3/3 [==============================] - 0s 3ms/step - loss: 0.3833 - accuracy: 0.9625\n",
            "Epoch 22/200\n",
            "3/3 [==============================] - 0s 3ms/step - loss: 0.3819 - accuracy: 0.9625\n",
            "Epoch 23/200\n",
            "3/3 [==============================] - 0s 3ms/step - loss: 0.3814 - accuracy: 0.9625\n",
            "Epoch 24/200\n",
            "3/3 [==============================] - 0s 3ms/step - loss: 0.3795 - accuracy: 0.9625\n",
            "Epoch 25/200\n",
            "3/3 [==============================] - 0s 4ms/step - loss: 0.3785 - accuracy: 0.9625\n",
            "Epoch 26/200\n",
            "3/3 [==============================] - 0s 4ms/step - loss: 0.3778 - accuracy: 0.9625\n",
            "Epoch 27/200\n",
            "3/3 [==============================] - 0s 3ms/step - loss: 0.3754 - accuracy: 0.9625\n",
            "Epoch 28/200\n",
            "3/3 [==============================] - 0s 3ms/step - loss: 0.3746 - accuracy: 0.9625\n",
            "Epoch 29/200\n",
            "3/3 [==============================] - 0s 3ms/step - loss: 0.3732 - accuracy: 0.9625\n",
            "Epoch 30/200\n",
            "3/3 [==============================] - 0s 3ms/step - loss: 0.3713 - accuracy: 0.9750\n",
            "Epoch 31/200\n",
            "3/3 [==============================] - 0s 4ms/step - loss: 0.3700 - accuracy: 0.9750\n",
            "Epoch 32/200\n",
            "3/3 [==============================] - 0s 3ms/step - loss: 0.3708 - accuracy: 0.9625\n",
            "Epoch 33/200\n",
            "3/3 [==============================] - 0s 3ms/step - loss: 0.3676 - accuracy: 0.9750\n",
            "Epoch 34/200\n",
            "3/3 [==============================] - 0s 4ms/step - loss: 0.3670 - accuracy: 0.9750\n",
            "Epoch 35/200\n",
            "3/3 [==============================] - 0s 3ms/step - loss: 0.3652 - accuracy: 0.9750\n",
            "Epoch 36/200\n",
            "3/3 [==============================] - 0s 3ms/step - loss: 0.3641 - accuracy: 0.9750\n",
            "Epoch 37/200\n",
            "3/3 [==============================] - 0s 3ms/step - loss: 0.3654 - accuracy: 0.9750\n",
            "Epoch 38/200\n",
            "3/3 [==============================] - 0s 3ms/step - loss: 0.3616 - accuracy: 0.9750\n",
            "Epoch 39/200\n",
            "3/3 [==============================] - 0s 3ms/step - loss: 0.3603 - accuracy: 0.9750\n",
            "Epoch 40/200\n",
            "3/3 [==============================] - 0s 3ms/step - loss: 0.3592 - accuracy: 0.9625\n",
            "Epoch 41/200\n",
            "3/3 [==============================] - 0s 4ms/step - loss: 0.3581 - accuracy: 0.9625\n",
            "Epoch 42/200\n",
            "3/3 [==============================] - 0s 3ms/step - loss: 0.3570 - accuracy: 0.9625\n",
            "Epoch 43/200\n",
            "3/3 [==============================] - 0s 3ms/step - loss: 0.3556 - accuracy: 0.9625\n",
            "Epoch 44/200\n",
            "3/3 [==============================] - 0s 3ms/step - loss: 0.3545 - accuracy: 0.9625\n",
            "Epoch 45/200\n",
            "3/3 [==============================] - 0s 3ms/step - loss: 0.3555 - accuracy: 0.9625\n",
            "Epoch 46/200\n",
            "3/3 [==============================] - 0s 4ms/step - loss: 0.3542 - accuracy: 0.9750\n",
            "Epoch 47/200\n",
            "3/3 [==============================] - 0s 3ms/step - loss: 0.3515 - accuracy: 0.9750\n",
            "Epoch 48/200\n",
            "3/3 [==============================] - 0s 3ms/step - loss: 0.3499 - accuracy: 0.9625\n",
            "Epoch 49/200\n",
            "3/3 [==============================] - 0s 3ms/step - loss: 0.3489 - accuracy: 0.9625\n",
            "Epoch 50/200\n",
            "3/3 [==============================] - 0s 3ms/step - loss: 0.3476 - accuracy: 0.9625\n",
            "Epoch 51/200\n",
            "3/3 [==============================] - 0s 3ms/step - loss: 0.3472 - accuracy: 0.9750\n",
            "Epoch 52/200\n",
            "3/3 [==============================] - 0s 3ms/step - loss: 0.3458 - accuracy: 0.9750\n",
            "Epoch 53/200\n",
            "3/3 [==============================] - 0s 3ms/step - loss: 0.3444 - accuracy: 0.9750\n",
            "Epoch 54/200\n",
            "3/3 [==============================] - 0s 4ms/step - loss: 0.3433 - accuracy: 0.9750\n",
            "Epoch 55/200\n",
            "3/3 [==============================] - 0s 3ms/step - loss: 0.3422 - accuracy: 0.9750\n",
            "Epoch 56/200\n",
            "3/3 [==============================] - 0s 4ms/step - loss: 0.3412 - accuracy: 0.9625\n",
            "Epoch 57/200\n",
            "3/3 [==============================] - 0s 5ms/step - loss: 0.3401 - accuracy: 0.9625\n",
            "Epoch 58/200\n",
            "3/3 [==============================] - 0s 3ms/step - loss: 0.3396 - accuracy: 0.9750\n",
            "Epoch 59/200\n",
            "3/3 [==============================] - 0s 5ms/step - loss: 0.3380 - accuracy: 0.9625\n",
            "Epoch 60/200\n",
            "3/3 [==============================] - 0s 3ms/step - loss: 0.3387 - accuracy: 0.9625\n",
            "Epoch 61/200\n",
            "3/3 [==============================] - 0s 3ms/step - loss: 0.3365 - accuracy: 0.9625\n",
            "Epoch 62/200\n",
            "3/3 [==============================] - 0s 4ms/step - loss: 0.3353 - accuracy: 0.9625\n",
            "Epoch 63/200\n",
            "3/3 [==============================] - 0s 3ms/step - loss: 0.3340 - accuracy: 0.9750\n",
            "Epoch 64/200\n",
            "3/3 [==============================] - 0s 4ms/step - loss: 0.3340 - accuracy: 0.9625\n",
            "Epoch 65/200\n",
            "3/3 [==============================] - 0s 3ms/step - loss: 0.3319 - accuracy: 0.9750\n",
            "Epoch 66/200\n",
            "3/3 [==============================] - 0s 3ms/step - loss: 0.3336 - accuracy: 0.9625\n",
            "Epoch 67/200\n",
            "3/3 [==============================] - 0s 3ms/step - loss: 0.3304 - accuracy: 0.9625\n",
            "Epoch 68/200\n",
            "3/3 [==============================] - 0s 3ms/step - loss: 0.3300 - accuracy: 0.9625\n",
            "Epoch 69/200\n",
            "3/3 [==============================] - 0s 3ms/step - loss: 0.3291 - accuracy: 0.9750\n",
            "Epoch 70/200\n",
            "3/3 [==============================] - 0s 3ms/step - loss: 0.3285 - accuracy: 0.9750\n",
            "Epoch 71/200\n",
            "3/3 [==============================] - 0s 5ms/step - loss: 0.3268 - accuracy: 0.9750\n",
            "Epoch 72/200\n",
            "3/3 [==============================] - 0s 3ms/step - loss: 0.3264 - accuracy: 0.9750\n",
            "Epoch 73/200\n",
            "3/3 [==============================] - 0s 3ms/step - loss: 0.3245 - accuracy: 0.9750\n",
            "Epoch 74/200\n",
            "3/3 [==============================] - 0s 3ms/step - loss: 0.3236 - accuracy: 0.9750\n",
            "Epoch 75/200\n",
            "3/3 [==============================] - 0s 3ms/step - loss: 0.3226 - accuracy: 0.9750\n",
            "Epoch 76/200\n",
            "3/3 [==============================] - 0s 4ms/step - loss: 0.3220 - accuracy: 0.9750\n",
            "Epoch 77/200\n",
            "3/3 [==============================] - 0s 3ms/step - loss: 0.3207 - accuracy: 0.9750\n",
            "Epoch 78/200\n",
            "3/3 [==============================] - 0s 3ms/step - loss: 0.3216 - accuracy: 0.9625\n",
            "Epoch 79/200\n",
            "3/3 [==============================] - 0s 3ms/step - loss: 0.3191 - accuracy: 0.9625\n",
            "Epoch 80/200\n",
            "3/3 [==============================] - 0s 3ms/step - loss: 0.3181 - accuracy: 0.9625\n",
            "Epoch 81/200\n",
            "3/3 [==============================] - 0s 3ms/step - loss: 0.3178 - accuracy: 0.9625\n",
            "Epoch 82/200\n",
            "3/3 [==============================] - 0s 3ms/step - loss: 0.3165 - accuracy: 0.9625\n",
            "Epoch 83/200\n",
            "3/3 [==============================] - 0s 3ms/step - loss: 0.3152 - accuracy: 0.9625\n",
            "Epoch 84/200\n",
            "3/3 [==============================] - 0s 3ms/step - loss: 0.3142 - accuracy: 0.9625\n",
            "Epoch 85/200\n",
            "3/3 [==============================] - 0s 3ms/step - loss: 0.3134 - accuracy: 0.9750\n",
            "Epoch 86/200\n",
            "3/3 [==============================] - 0s 3ms/step - loss: 0.3125 - accuracy: 0.9750\n",
            "Epoch 87/200\n",
            "3/3 [==============================] - 0s 6ms/step - loss: 0.3119 - accuracy: 0.9625\n",
            "Epoch 88/200\n",
            "3/3 [==============================] - 0s 3ms/step - loss: 0.3113 - accuracy: 0.9625\n",
            "Epoch 89/200\n",
            "3/3 [==============================] - 0s 5ms/step - loss: 0.3103 - accuracy: 0.9750\n",
            "Epoch 90/200\n",
            "3/3 [==============================] - 0s 3ms/step - loss: 0.3094 - accuracy: 0.9750\n",
            "Epoch 91/200\n",
            "3/3 [==============================] - 0s 3ms/step - loss: 0.3089 - accuracy: 0.9750\n",
            "Epoch 92/200\n",
            "3/3 [==============================] - 0s 3ms/step - loss: 0.3089 - accuracy: 0.9750\n",
            "Epoch 93/200\n",
            "3/3 [==============================] - 0s 4ms/step - loss: 0.3072 - accuracy: 0.9750\n",
            "Epoch 94/200\n",
            "3/3 [==============================] - 0s 4ms/step - loss: 0.3060 - accuracy: 0.9750\n",
            "Epoch 95/200\n",
            "3/3 [==============================] - 0s 4ms/step - loss: 0.3059 - accuracy: 0.9625\n",
            "Epoch 96/200\n",
            "3/3 [==============================] - 0s 4ms/step - loss: 0.3041 - accuracy: 0.9750\n",
            "Epoch 97/200\n",
            "3/3 [==============================] - 0s 3ms/step - loss: 0.3041 - accuracy: 0.9750\n",
            "Epoch 98/200\n",
            "3/3 [==============================] - 0s 5ms/step - loss: 0.3026 - accuracy: 0.9750\n",
            "Epoch 99/200\n",
            "3/3 [==============================] - 0s 4ms/step - loss: 0.3038 - accuracy: 0.9625\n",
            "Epoch 100/200\n",
            "3/3 [==============================] - 0s 3ms/step - loss: 0.3013 - accuracy: 0.9750\n",
            "Epoch 101/200\n",
            "3/3 [==============================] - 0s 4ms/step - loss: 0.3009 - accuracy: 0.9625\n",
            "Epoch 102/200\n",
            "3/3 [==============================] - 0s 5ms/step - loss: 0.3009 - accuracy: 0.9625\n",
            "Epoch 103/200\n",
            "3/3 [==============================] - 0s 3ms/step - loss: 0.2986 - accuracy: 0.9625\n",
            "Epoch 104/200\n",
            "3/3 [==============================] - 0s 3ms/step - loss: 0.2986 - accuracy: 0.9625\n",
            "Epoch 105/200\n",
            "3/3 [==============================] - 0s 3ms/step - loss: 0.2972 - accuracy: 0.9625\n",
            "Epoch 106/200\n",
            "3/3 [==============================] - 0s 6ms/step - loss: 0.2963 - accuracy: 0.9750\n",
            "Epoch 107/200\n",
            "3/3 [==============================] - 0s 4ms/step - loss: 0.2962 - accuracy: 0.9750\n",
            "Epoch 108/200\n",
            "3/3 [==============================] - 0s 5ms/step - loss: 0.2963 - accuracy: 0.9750\n",
            "Epoch 109/200\n",
            "3/3 [==============================] - 0s 4ms/step - loss: 0.2948 - accuracy: 0.9625\n",
            "Epoch 110/200\n",
            "3/3 [==============================] - 0s 3ms/step - loss: 0.2934 - accuracy: 0.9625\n",
            "Epoch 111/200\n",
            "3/3 [==============================] - 0s 3ms/step - loss: 0.2926 - accuracy: 0.9750\n",
            "Epoch 112/200\n",
            "3/3 [==============================] - 0s 4ms/step - loss: 0.2924 - accuracy: 0.9625\n",
            "Epoch 113/200\n",
            "3/3 [==============================] - 0s 3ms/step - loss: 0.2934 - accuracy: 0.9625\n",
            "Epoch 114/200\n",
            "3/3 [==============================] - 0s 3ms/step - loss: 0.2922 - accuracy: 0.9625\n",
            "Epoch 115/200\n",
            "3/3 [==============================] - 0s 4ms/step - loss: 0.2910 - accuracy: 0.9625\n",
            "Epoch 116/200\n",
            "3/3 [==============================] - 0s 4ms/step - loss: 0.2904 - accuracy: 0.9625\n",
            "Epoch 117/200\n",
            "3/3 [==============================] - 0s 4ms/step - loss: 0.2893 - accuracy: 0.9625\n",
            "Epoch 118/200\n",
            "3/3 [==============================] - 0s 3ms/step - loss: 0.2876 - accuracy: 0.9625\n",
            "Epoch 119/200\n",
            "3/3 [==============================] - 0s 3ms/step - loss: 0.2870 - accuracy: 0.9625\n",
            "Epoch 120/200\n",
            "3/3 [==============================] - 0s 4ms/step - loss: 0.2862 - accuracy: 0.9625\n",
            "Epoch 121/200\n",
            "3/3 [==============================] - 0s 4ms/step - loss: 0.2865 - accuracy: 0.9625\n",
            "Epoch 122/200\n",
            "3/3 [==============================] - 0s 6ms/step - loss: 0.2851 - accuracy: 0.9625\n",
            "Epoch 123/200\n",
            "3/3 [==============================] - 0s 3ms/step - loss: 0.2841 - accuracy: 0.9625\n",
            "Epoch 124/200\n",
            "3/3 [==============================] - 0s 3ms/step - loss: 0.2836 - accuracy: 0.9750\n",
            "Epoch 125/200\n",
            "3/3 [==============================] - 0s 4ms/step - loss: 0.2829 - accuracy: 0.9625\n",
            "Epoch 126/200\n",
            "3/3 [==============================] - 0s 3ms/step - loss: 0.2822 - accuracy: 0.9625\n",
            "Epoch 127/200\n",
            "3/3 [==============================] - 0s 4ms/step - loss: 0.2819 - accuracy: 0.9625\n",
            "Epoch 128/200\n",
            "3/3 [==============================] - 0s 5ms/step - loss: 0.2809 - accuracy: 0.9625\n",
            "Epoch 129/200\n",
            "3/3 [==============================] - 0s 4ms/step - loss: 0.2801 - accuracy: 0.9625\n",
            "Epoch 130/200\n",
            "3/3 [==============================] - 0s 6ms/step - loss: 0.2797 - accuracy: 0.9625\n",
            "Epoch 131/200\n",
            "3/3 [==============================] - 0s 3ms/step - loss: 0.2803 - accuracy: 0.9750\n",
            "Epoch 132/200\n",
            "3/3 [==============================] - 0s 3ms/step - loss: 0.2786 - accuracy: 0.9750\n",
            "Epoch 133/200\n",
            "3/3 [==============================] - 0s 3ms/step - loss: 0.2776 - accuracy: 0.9625\n",
            "Epoch 134/200\n",
            "3/3 [==============================] - 0s 3ms/step - loss: 0.2771 - accuracy: 0.9625\n",
            "Epoch 135/200\n",
            "3/3 [==============================] - 0s 3ms/step - loss: 0.2764 - accuracy: 0.9625\n",
            "Epoch 136/200\n",
            "3/3 [==============================] - 0s 3ms/step - loss: 0.2757 - accuracy: 0.9625\n",
            "Epoch 137/200\n",
            "3/3 [==============================] - 0s 3ms/step - loss: 0.2767 - accuracy: 0.9625\n",
            "Epoch 138/200\n",
            "3/3 [==============================] - 0s 3ms/step - loss: 0.2749 - accuracy: 0.9625\n",
            "Epoch 139/200\n",
            "3/3 [==============================] - 0s 4ms/step - loss: 0.2738 - accuracy: 0.9750\n",
            "Epoch 140/200\n",
            "3/3 [==============================] - 0s 3ms/step - loss: 0.2732 - accuracy: 0.9750\n",
            "Epoch 141/200\n",
            "3/3 [==============================] - 0s 3ms/step - loss: 0.2727 - accuracy: 0.9750\n",
            "Epoch 142/200\n",
            "3/3 [==============================] - 0s 3ms/step - loss: 0.2720 - accuracy: 0.9750\n",
            "Epoch 143/200\n",
            "3/3 [==============================] - 0s 3ms/step - loss: 0.2717 - accuracy: 0.9625\n",
            "Epoch 144/200\n",
            "3/3 [==============================] - 0s 3ms/step - loss: 0.2710 - accuracy: 0.9750\n",
            "Epoch 145/200\n",
            "3/3 [==============================] - 0s 3ms/step - loss: 0.2702 - accuracy: 0.9750\n",
            "Epoch 146/200\n",
            "3/3 [==============================] - 0s 3ms/step - loss: 0.2714 - accuracy: 0.9750\n",
            "Epoch 147/200\n",
            "3/3 [==============================] - 0s 3ms/step - loss: 0.2693 - accuracy: 0.9750\n",
            "Epoch 148/200\n",
            "3/3 [==============================] - 0s 3ms/step - loss: 0.2681 - accuracy: 0.9750\n",
            "Epoch 149/200\n",
            "3/3 [==============================] - 0s 3ms/step - loss: 0.2677 - accuracy: 0.9750\n",
            "Epoch 150/200\n",
            "3/3 [==============================] - 0s 3ms/step - loss: 0.2685 - accuracy: 0.9750\n",
            "Epoch 151/200\n",
            "3/3 [==============================] - 0s 3ms/step - loss: 0.2668 - accuracy: 0.9750\n",
            "Epoch 152/200\n",
            "3/3 [==============================] - 0s 3ms/step - loss: 0.2662 - accuracy: 0.9625\n",
            "Epoch 153/200\n",
            "3/3 [==============================] - 0s 3ms/step - loss: 0.2669 - accuracy: 0.9625\n",
            "Epoch 154/200\n",
            "3/3 [==============================] - 0s 3ms/step - loss: 0.2655 - accuracy: 0.9750\n",
            "Epoch 155/200\n",
            "3/3 [==============================] - 0s 3ms/step - loss: 0.2649 - accuracy: 0.9625\n",
            "Epoch 156/200\n",
            "3/3 [==============================] - 0s 3ms/step - loss: 0.2635 - accuracy: 0.9750\n",
            "Epoch 157/200\n",
            "3/3 [==============================] - 0s 5ms/step - loss: 0.2628 - accuracy: 0.9750\n",
            "Epoch 158/200\n",
            "3/3 [==============================] - 0s 3ms/step - loss: 0.2624 - accuracy: 0.9750\n",
            "Epoch 159/200\n",
            "3/3 [==============================] - 0s 3ms/step - loss: 0.2619 - accuracy: 0.9625\n",
            "Epoch 160/200\n",
            "3/3 [==============================] - 0s 5ms/step - loss: 0.2612 - accuracy: 0.9625\n",
            "Epoch 161/200\n",
            "3/3 [==============================] - 0s 3ms/step - loss: 0.2607 - accuracy: 0.9750\n",
            "Epoch 162/200\n",
            "3/3 [==============================] - 0s 3ms/step - loss: 0.2601 - accuracy: 0.9750\n",
            "Epoch 163/200\n",
            "3/3 [==============================] - 0s 3ms/step - loss: 0.2597 - accuracy: 0.9750\n",
            "Epoch 164/200\n",
            "3/3 [==============================] - 0s 3ms/step - loss: 0.2600 - accuracy: 0.9750\n",
            "Epoch 165/200\n",
            "3/3 [==============================] - 0s 3ms/step - loss: 0.2590 - accuracy: 0.9625\n",
            "Epoch 166/200\n",
            "3/3 [==============================] - 0s 3ms/step - loss: 0.2581 - accuracy: 0.9625\n",
            "Epoch 167/200\n",
            "3/3 [==============================] - 0s 3ms/step - loss: 0.2575 - accuracy: 0.9625\n",
            "Epoch 168/200\n",
            "3/3 [==============================] - 0s 3ms/step - loss: 0.2573 - accuracy: 0.9625\n",
            "Epoch 169/200\n",
            "3/3 [==============================] - 0s 3ms/step - loss: 0.2564 - accuracy: 0.9625\n",
            "Epoch 170/200\n",
            "3/3 [==============================] - 0s 3ms/step - loss: 0.2561 - accuracy: 0.9625\n",
            "Epoch 171/200\n",
            "3/3 [==============================] - 0s 3ms/step - loss: 0.2552 - accuracy: 0.9750\n",
            "Epoch 172/200\n",
            "3/3 [==============================] - 0s 2ms/step - loss: 0.2551 - accuracy: 0.9625\n",
            "Epoch 173/200\n",
            "3/3 [==============================] - 0s 3ms/step - loss: 0.2545 - accuracy: 0.9750\n",
            "Epoch 174/200\n",
            "3/3 [==============================] - 0s 3ms/step - loss: 0.2548 - accuracy: 0.9625\n",
            "Epoch 175/200\n",
            "3/3 [==============================] - 0s 3ms/step - loss: 0.2533 - accuracy: 0.9625\n",
            "Epoch 176/200\n",
            "3/3 [==============================] - 0s 4ms/step - loss: 0.2529 - accuracy: 0.9750\n",
            "Epoch 177/200\n",
            "3/3 [==============================] - 0s 3ms/step - loss: 0.2522 - accuracy: 0.9750\n",
            "Epoch 178/200\n",
            "3/3 [==============================] - 0s 4ms/step - loss: 0.2518 - accuracy: 0.9750\n",
            "Epoch 179/200\n",
            "3/3 [==============================] - 0s 3ms/step - loss: 0.2512 - accuracy: 0.9750\n",
            "Epoch 180/200\n",
            "3/3 [==============================] - 0s 3ms/step - loss: 0.2505 - accuracy: 0.9750\n",
            "Epoch 181/200\n",
            "3/3 [==============================] - 0s 3ms/step - loss: 0.2501 - accuracy: 0.9750\n",
            "Epoch 182/200\n",
            "3/3 [==============================] - 0s 3ms/step - loss: 0.2500 - accuracy: 0.9750\n",
            "Epoch 183/200\n",
            "3/3 [==============================] - 0s 3ms/step - loss: 0.2496 - accuracy: 0.9750\n",
            "Epoch 184/200\n",
            "3/3 [==============================] - 0s 3ms/step - loss: 0.2486 - accuracy: 0.9750\n",
            "Epoch 185/200\n",
            "3/3 [==============================] - 0s 3ms/step - loss: 0.2480 - accuracy: 0.9750\n",
            "Epoch 186/200\n",
            "3/3 [==============================] - 0s 3ms/step - loss: 0.2477 - accuracy: 0.9750\n",
            "Epoch 187/200\n",
            "3/3 [==============================] - 0s 3ms/step - loss: 0.2474 - accuracy: 0.9750\n",
            "Epoch 188/200\n",
            "3/3 [==============================] - 0s 3ms/step - loss: 0.2477 - accuracy: 0.9750\n",
            "Epoch 189/200\n",
            "3/3 [==============================] - 0s 3ms/step - loss: 0.2469 - accuracy: 0.9625\n",
            "Epoch 190/200\n",
            "3/3 [==============================] - 0s 3ms/step - loss: 0.2456 - accuracy: 0.9750\n",
            "Epoch 191/200\n",
            "3/3 [==============================] - 0s 3ms/step - loss: 0.2458 - accuracy: 0.9750\n",
            "Epoch 192/200\n",
            "3/3 [==============================] - 0s 3ms/step - loss: 0.2466 - accuracy: 0.9750\n",
            "Epoch 193/200\n",
            "3/3 [==============================] - 0s 3ms/step - loss: 0.2441 - accuracy: 0.9750\n",
            "Epoch 194/200\n",
            "3/3 [==============================] - 0s 2ms/step - loss: 0.2443 - accuracy: 0.9750\n",
            "Epoch 195/200\n",
            "3/3 [==============================] - 0s 3ms/step - loss: 0.2432 - accuracy: 0.9750\n",
            "Epoch 196/200\n",
            "3/3 [==============================] - 0s 3ms/step - loss: 0.2433 - accuracy: 0.9750\n",
            "Epoch 197/200\n",
            "3/3 [==============================] - 0s 3ms/step - loss: 0.2424 - accuracy: 0.9750\n",
            "Epoch 198/200\n",
            "3/3 [==============================] - 0s 3ms/step - loss: 0.2435 - accuracy: 0.9750\n",
            "Epoch 199/200\n",
            "3/3 [==============================] - 0s 4ms/step - loss: 0.2416 - accuracy: 0.9625\n",
            "Epoch 200/200\n",
            "3/3 [==============================] - 0s 3ms/step - loss: 0.2412 - accuracy: 0.9625\n"
          ]
        }
      ]
    },
    {
      "cell_type": "code",
      "source": [
        "plt.plot(history.history['loss'])\n",
        "plt.title('TRAINING LOSS')\n",
        "plt.show()"
      ],
      "metadata": {
        "colab": {
          "base_uri": "https://localhost:8080/",
          "height": 281
        },
        "id": "mxtw9lqR2CLu",
        "outputId": "e88c8285-c292-44e6-a9f6-52e56ddbd8dd"
      },
      "execution_count": 80,
      "outputs": [
        {
          "output_type": "display_data",
          "data": {
            "text/plain": [
              "<Figure size 432x288 with 1 Axes>"
            ],
            "image/png": "[encoded data removed]"
          },
          "metadata": {
            "needs_background": "light"
          }
        }
      ]
    },
    {
      "cell_type": "code",
      "source": [
        "plt.plot(history.history['accuracy'])\n",
        "plt.title('TRAINING ACCURACY')\n",
        "plt.show()"
      ],
      "metadata": {
        "colab": {
          "base_uri": "https://localhost:8080/",
          "height": 281
        },
        "id": "5qc_06jIFEDC",
        "outputId": "685d8194-00e8-49a4-9116-8137aadcf1a8"
      },
      "execution_count": 81,
      "outputs": [
        {
          "output_type": "display_data",
          "data": {
            "text/plain": [
              "<Figure size 432x288 with 1 Axes>"
            ],
            "image/png": "[encoded data removed]"
          },
          "metadata": {
            "needs_background": "light"
          }
        }
      ]
    },
    {
      "cell_type": "code",
      "source": [
        "y_predict = np.argmax(model.predict(X_test), axis=1)"
      ],
      "metadata": {
        "id": "I71HQMeA2o1B"
      },
      "execution_count": 82,
      "outputs": []
    },
    {
      "cell_type": "code",
      "source": [
        "print(y_test)"
      ],
      "metadata": {
        "colab": {
          "base_uri": "https://localhost:8080/"
        },
        "id": "3j9-P7XmKgqa",
        "outputId": "f1f5aaf3-b942-40c4-89cd-125c3f177e5f"
      },
      "execution_count": 83,
      "outputs": [
        {
          "output_type": "stream",
          "name": "stdout",
          "text": [
            "[1 1 1 0 1 0 0 1 1 1 1 1 1 1 0 0 0 1 0 1]\n"
          ]
        }
      ]
    },
    {
      "cell_type": "code",
      "source": [
        "print(y_predict)"
      ],
      "metadata": {
        "colab": {
          "base_uri": "https://localhost:8080/"
        },
        "id": "oWsHB0THKjjH",
        "outputId": "d708b588-f0d8-418c-9d17-719513b23db4"
      },
      "execution_count": 84,
      "outputs": [
        {
          "output_type": "stream",
          "name": "stdout",
          "text": [
            "[1 1 1 0 1 0 0 1 1 1 1 1 1 1 0 0 0 1 0 1]\n"
          ]
        }
      ]
    },
    {
      "cell_type": "code",
      "source": [
        "_, (test_ax, predict_ax) = plt.subplots(ncols=2, figsize=(16, 8))\n",
        "# Plot the testing points\n",
        "test_ax.scatter(X_test[:, 0], X_test[:, 1], c=y_test, cmap=plt.cm.Set1)\n",
        "test_ax.set_title('TESTING DATA')\n",
        "\n",
        "# Plot the prediction points\n",
        "predict_ax.scatter(X_test[:, 0], X_test[:, 1], c=y_predict, cmap=plt.cm.Set1)\n",
        "_ = predict_ax.set_title('PREDICTION DATA')"
      ],
      "metadata": {
        "colab": {
          "base_uri": "https://localhost:8080/",
          "height": 499
        },
        "id": "TUjOlgtj2w9H",
        "outputId": "17650422-7da2-4cff-a9ed-30897996d539"
      },
      "execution_count": 85,
      "outputs": [
        {
          "output_type": "display_data",
          "data": {
            "text/plain": [
              "<Figure size 1152x576 with 2 Axes>"
            ],
            "image/png": "[encoded data removed]"
          },
          "metadata": {
            "needs_background": "light"
          }
        }
      ]
    }
  ]
}