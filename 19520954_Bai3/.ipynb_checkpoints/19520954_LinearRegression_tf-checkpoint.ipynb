{
 "cells": [
  {
   "cell_type": "markdown",
   "metadata": {
    "id": "FdCMB-xJ289A"
   },
   "source": [
    "MSSV: 19520954\n",
    "\n",
    "Tên: Lê Thị Thanh Thanh"
   ]
  },
  {
   "cell_type": "markdown",
   "metadata": {
    "id": "YbRUNLbj3MNS"
   },
   "source": [
    "# Các thư viện cần thiết"
   ]
  },
  {
   "cell_type": "code",
   "execution_count": 49,
   "metadata": {
    "id": "IkiVoeCb23R0"
   },
   "outputs": [],
   "source": [
    "import tensorflow as tf\n",
    "import numpy as np\n",
    "import pandas as pd\n",
    "from tensorflow import keras\n",
    "import matplotlib.pyplot as plt"
   ]
  },
  {
   "cell_type": "code",
   "execution_count": 50,
   "metadata": {
    "colab": {
     "base_uri": "https://localhost:8080/"
    },
    "id": "JpQQxsSYYaz1",
    "outputId": "ae078821-a667-45ef-ec0a-22b63946042b"
   },
   "outputs": [
    {
     "name": "stdout",
     "output_type": "stream",
     "text": [
      "2.8.0\n"
     ]
    }
   ],
   "source": [
    "print(tf.__version__)"
   ]
  },
  {
   "cell_type": "markdown",
   "metadata": {
    "id": "JY6Ay78Lb3J8"
   },
   "source": [
    "# Sinh dữ liệu: y = 8x + 2"
   ]
  },
  {
   "cell_type": "code",
   "execution_count": 51,
   "metadata": {
    "id": "jd4KAmGzb23e"
   },
   "outputs": [],
   "source": [
    "n_samples = 100\n",
    "X_train = np.linspace(-5, 5, n_samples)\n",
    "y_train = 8 * X_train + 2\n",
    "noise =  3 * np.random.randn(n_samples)\n",
    "y_train += noise"
   ]
  },
  {
   "cell_type": "code",
   "execution_count": 52,
   "metadata": {
    "colab": {
     "base_uri": "https://localhost:8080/",
     "height": 265
    },
    "id": "PgKnra_Xb_fF",
    "outputId": "3753bc79-2340-4c46-b396-759f810c5472"
   },
   "outputs": [
    {
     "data": {
      "image/png": "[encoded data removed]",
      "text/plain": [
       "<Figure size 432x288 with 1 Axes>"
      ]
     },
     "metadata": {
      "needs_background": "light"
     },
     "output_type": "display_data"
    }
   ],
   "source": [
    "plt.scatter(X_train, y_train, label='Training Data')\n",
    "plt.plot(X_train, 8 * X_train + 2, color='orange')\n",
    "plt.show()\n"
   ]
  },
  {
   "cell_type": "markdown",
   "metadata": {
    "id": "OncTvlkJcTCZ"
   },
   "source": [
    "# Linear Regression"
   ]
  },
  {
   "cell_type": "code",
   "execution_count": 59,
   "metadata": {
    "id": "l8lIdhhd1acS"
   },
   "outputs": [],
   "source": [
    "model = tf.keras.models.Sequential()\n",
    "model.add(tf.keras.layers.Dense(1, input_shape=(1,)))\n",
    "model.compile(optimizer='sgd', loss=tf.keras.losses.mean_squared_error)"
   ]
  },
  {
   "cell_type": "code",
   "execution_count": 60,
   "metadata": {
    "colab": {
     "base_uri": "https://localhost:8080/"
    },
    "id": "KlOMxSVs2VwX",
    "outputId": "2aa34f10-ab13-4a9e-b050-ea81f75cfc80"
   },
   "outputs": [
    {
     "name": "stdout",
     "output_type": "stream",
     "text": [
      "Model: \"sequential_4\"\n",
      "_________________________________________________________________\n",
      " Layer (type)                Output Shape              Param #   \n",
      "=================================================================\n",
      " dense_4 (Dense)             (None, 1)                 2         \n",
      "                                                                 \n",
      "=================================================================\n",
      "Total params: 2\n",
      "Trainable params: 2\n",
      "Non-trainable params: 0\n",
      "_________________________________________________________________\n"
     ]
    }
   ],
   "source": [
    "model.summary()"
   ]
  },
  {
   "cell_type": "code",
   "execution_count": 61,
   "metadata": {
    "colab": {
     "base_uri": "https://localhost:8080/"
    },
    "id": "1twaNpf811KZ",
    "outputId": "769ccf38-d0d4-4f7f-c3e3-f04877bd4651"
   },
   "outputs": [
    {
     "name": "stdout",
     "output_type": "stream",
     "text": [
      "Epoch 1/100\n",
      "4/4 [==============================] - 0s 3ms/step - loss: 462.4571\n",
      "Epoch 2/100\n",
      "4/4 [==============================] - 0s 3ms/step - loss: 102.2236\n",
      "Epoch 3/100\n",
      "4/4 [==============================] - 0s 3ms/step - loss: 27.6863\n",
      "Epoch 4/100\n",
      "4/4 [==============================] - 0s 3ms/step - loss: 14.6811\n",
      "Epoch 5/100\n",
      "4/4 [==============================] - 0s 3ms/step - loss: 10.9840\n",
      "Epoch 6/100\n",
      "4/4 [==============================] - 0s 3ms/step - loss: 10.2054\n",
      "Epoch 7/100\n",
      "4/4 [==============================] - 0s 4ms/step - loss: 9.6709\n",
      "Epoch 8/100\n",
      "4/4 [==============================] - 0s 4ms/step - loss: 9.4526\n",
      "Epoch 9/100\n",
      "4/4 [==============================] - 0s 2ms/step - loss: 9.3773\n",
      "Epoch 10/100\n",
      "4/4 [==============================] - 0s 2ms/step - loss: 9.2333\n",
      "Epoch 11/100\n",
      "4/4 [==============================] - 0s 3ms/step - loss: 9.1696\n",
      "Epoch 12/100\n",
      "4/4 [==============================] - 0s 3ms/step - loss: 9.1941\n",
      "Epoch 13/100\n",
      "4/4 [==============================] - 0s 3ms/step - loss: 9.0307\n",
      "Epoch 14/100\n",
      "4/4 [==============================] - 0s 3ms/step - loss: 8.9706\n",
      "Epoch 15/100\n",
      "4/4 [==============================] - 0s 2ms/step - loss: 8.9200\n",
      "Epoch 16/100\n",
      "4/4 [==============================] - 0s 3ms/step - loss: 8.8936\n",
      "Epoch 17/100\n",
      "4/4 [==============================] - 0s 4ms/step - loss: 8.7837\n",
      "Epoch 18/100\n",
      "4/4 [==============================] - 0s 3ms/step - loss: 8.7634\n",
      "Epoch 19/100\n",
      "4/4 [==============================] - 0s 4ms/step - loss: 8.7599\n",
      "Epoch 20/100\n",
      "4/4 [==============================] - 0s 3ms/step - loss: 8.9834\n",
      "Epoch 21/100\n",
      "4/4 [==============================] - 0s 3ms/step - loss: 8.7184\n",
      "Epoch 22/100\n",
      "4/4 [==============================] - 0s 2ms/step - loss: 8.7315\n",
      "Epoch 23/100\n",
      "4/4 [==============================] - 0s 4ms/step - loss: 8.8012\n",
      "Epoch 24/100\n",
      "4/4 [==============================] - 0s 2ms/step - loss: 8.7208\n",
      "Epoch 25/100\n",
      "4/4 [==============================] - 0s 4ms/step - loss: 8.7845\n",
      "Epoch 26/100\n",
      "4/4 [==============================] - 0s 2ms/step - loss: 8.8966\n",
      "Epoch 27/100\n",
      "4/4 [==============================] - 0s 3ms/step - loss: 8.7175\n",
      "Epoch 28/100\n",
      "4/4 [==============================] - 0s 3ms/step - loss: 8.7627\n",
      "Epoch 29/100\n",
      "4/4 [==============================] - 0s 3ms/step - loss: 8.8120\n",
      "Epoch 30/100\n",
      "4/4 [==============================] - 0s 2ms/step - loss: 8.7453\n",
      "Epoch 31/100\n",
      "4/4 [==============================] - 0s 3ms/step - loss: 8.8575\n",
      "Epoch 32/100\n",
      "4/4 [==============================] - 0s 3ms/step - loss: 8.7287\n",
      "Epoch 33/100\n",
      "4/4 [==============================] - 0s 2ms/step - loss: 8.7240\n",
      "Epoch 34/100\n",
      "4/4 [==============================] - 0s 2ms/step - loss: 8.7651\n",
      "Epoch 35/100\n",
      "4/4 [==============================] - 0s 2ms/step - loss: 8.7013\n",
      "Epoch 36/100\n",
      "4/4 [==============================] - 0s 2ms/step - loss: 8.6927\n",
      "Epoch 37/100\n",
      "4/4 [==============================] - 0s 3ms/step - loss: 8.7448\n",
      "Epoch 38/100\n",
      "4/4 [==============================] - 0s 2ms/step - loss: 8.9353\n",
      "Epoch 39/100\n",
      "4/4 [==============================] - 0s 3ms/step - loss: 8.6947\n",
      "Epoch 40/100\n",
      "4/4 [==============================] - 0s 3ms/step - loss: 8.7061\n",
      "Epoch 41/100\n",
      "4/4 [==============================] - 0s 3ms/step - loss: 8.7418\n",
      "Epoch 42/100\n",
      "4/4 [==============================] - 0s 2ms/step - loss: 8.7081\n",
      "Epoch 43/100\n",
      "4/4 [==============================] - 0s 3ms/step - loss: 8.7710\n",
      "Epoch 44/100\n",
      "4/4 [==============================] - 0s 3ms/step - loss: 8.7009\n",
      "Epoch 45/100\n",
      "4/4 [==============================] - 0s 2ms/step - loss: 8.7512\n",
      "Epoch 46/100\n",
      "4/4 [==============================] - 0s 2ms/step - loss: 8.8439\n",
      "Epoch 47/100\n",
      "4/4 [==============================] - 0s 3ms/step - loss: 8.7470\n",
      "Epoch 48/100\n",
      "4/4 [==============================] - 0s 3ms/step - loss: 8.7329\n",
      "Epoch 49/100\n",
      "4/4 [==============================] - 0s 3ms/step - loss: 8.7277\n",
      "Epoch 50/100\n",
      "4/4 [==============================] - 0s 3ms/step - loss: 8.6844\n",
      "Epoch 51/100\n",
      "4/4 [==============================] - 0s 4ms/step - loss: 8.7031\n",
      "Epoch 52/100\n",
      "4/4 [==============================] - 0s 3ms/step - loss: 8.8746\n",
      "Epoch 53/100\n",
      "4/4 [==============================] - 0s 4ms/step - loss: 9.2010\n",
      "Epoch 54/100\n",
      "4/4 [==============================] - 0s 3ms/step - loss: 9.1584\n",
      "Epoch 55/100\n",
      "4/4 [==============================] - 0s 3ms/step - loss: 8.8086\n",
      "Epoch 56/100\n",
      "4/4 [==============================] - 0s 3ms/step - loss: 8.7266\n",
      "Epoch 57/100\n",
      "4/4 [==============================] - 0s 2ms/step - loss: 8.7170\n",
      "Epoch 58/100\n",
      "4/4 [==============================] - 0s 3ms/step - loss: 8.7837\n",
      "Epoch 59/100\n",
      "4/4 [==============================] - 0s 3ms/step - loss: 8.7056\n",
      "Epoch 60/100\n",
      "4/4 [==============================] - 0s 3ms/step - loss: 8.6900\n",
      "Epoch 61/100\n",
      "4/4 [==============================] - 0s 3ms/step - loss: 8.6838\n",
      "Epoch 62/100\n",
      "4/4 [==============================] - 0s 3ms/step - loss: 8.6967\n",
      "Epoch 63/100\n",
      "4/4 [==============================] - 0s 3ms/step - loss: 8.7505\n",
      "Epoch 64/100\n",
      "4/4 [==============================] - 0s 2ms/step - loss: 8.7366\n",
      "Epoch 65/100\n",
      "4/4 [==============================] - 0s 3ms/step - loss: 8.8261\n",
      "Epoch 66/100\n",
      "4/4 [==============================] - 0s 4ms/step - loss: 8.7953\n",
      "Epoch 67/100\n",
      "4/4 [==============================] - 0s 3ms/step - loss: 8.9462\n",
      "Epoch 68/100\n",
      "4/4 [==============================] - 0s 4ms/step - loss: 8.7375\n",
      "Epoch 69/100\n",
      "4/4 [==============================] - 0s 4ms/step - loss: 8.8407\n",
      "Epoch 70/100\n",
      "4/4 [==============================] - 0s 3ms/step - loss: 8.7289\n",
      "Epoch 71/100\n",
      "4/4 [==============================] - 0s 3ms/step - loss: 8.7025\n",
      "Epoch 72/100\n",
      "4/4 [==============================] - 0s 3ms/step - loss: 8.7250\n",
      "Epoch 73/100\n",
      "4/4 [==============================] - 0s 3ms/step - loss: 8.7476\n",
      "Epoch 74/100\n",
      "4/4 [==============================] - 0s 3ms/step - loss: 8.6888\n",
      "Epoch 75/100\n",
      "4/4 [==============================] - 0s 3ms/step - loss: 8.8081\n",
      "Epoch 76/100\n",
      "4/4 [==============================] - 0s 3ms/step - loss: 8.7233\n",
      "Epoch 77/100\n",
      "4/4 [==============================] - 0s 5ms/step - loss: 8.7164\n",
      "Epoch 78/100\n",
      "4/4 [==============================] - 0s 3ms/step - loss: 8.6919\n",
      "Epoch 79/100\n",
      "4/4 [==============================] - 0s 3ms/step - loss: 8.6871\n",
      "Epoch 80/100\n",
      "4/4 [==============================] - 0s 3ms/step - loss: 8.7539\n",
      "Epoch 81/100\n",
      "4/4 [==============================] - 0s 3ms/step - loss: 8.8146\n",
      "Epoch 82/100\n",
      "4/4 [==============================] - 0s 2ms/step - loss: 8.6988\n",
      "Epoch 83/100\n",
      "4/4 [==============================] - 0s 4ms/step - loss: 8.7201\n",
      "Epoch 84/100\n",
      "4/4 [==============================] - 0s 3ms/step - loss: 8.6730\n",
      "Epoch 85/100\n",
      "4/4 [==============================] - 0s 3ms/step - loss: 8.7188\n",
      "Epoch 86/100\n",
      "4/4 [==============================] - 0s 3ms/step - loss: 8.7410\n",
      "Epoch 87/100\n",
      "4/4 [==============================] - 0s 3ms/step - loss: 8.6867\n",
      "Epoch 88/100\n",
      "4/4 [==============================] - 0s 3ms/step - loss: 8.7440\n",
      "Epoch 89/100\n",
      "4/4 [==============================] - 0s 3ms/step - loss: 8.7214\n",
      "Epoch 90/100\n",
      "4/4 [==============================] - 0s 3ms/step - loss: 8.7233\n",
      "Epoch 91/100\n",
      "4/4 [==============================] - 0s 3ms/step - loss: 8.7045\n",
      "Epoch 92/100\n",
      "4/4 [==============================] - 0s 3ms/step - loss: 8.6781\n",
      "Epoch 93/100\n",
      "4/4 [==============================] - 0s 3ms/step - loss: 8.7655\n",
      "Epoch 94/100\n",
      "4/4 [==============================] - 0s 3ms/step - loss: 8.7091\n",
      "Epoch 95/100\n",
      "4/4 [==============================] - 0s 5ms/step - loss: 8.7274\n",
      "Epoch 96/100\n",
      "4/4 [==============================] - 0s 3ms/step - loss: 8.8240\n",
      "Epoch 97/100\n",
      "4/4 [==============================] - 0s 3ms/step - loss: 8.7336\n",
      "Epoch 98/100\n",
      "4/4 [==============================] - 0s 3ms/step - loss: 8.6782\n",
      "Epoch 99/100\n",
      "4/4 [==============================] - 0s 3ms/step - loss: 8.7167\n",
      "Epoch 100/100\n",
      "4/4 [==============================] - 0s 3ms/step - loss: 8.7251\n"
     ]
    }
   ],
   "source": [
    "history = model.fit(X_train, y_train, epochs=100)"
   ]
  },
  {
   "cell_type": "code",
   "execution_count": 62,
   "metadata": {
    "colab": {
     "base_uri": "https://localhost:8080/",
     "height": 281
    },
    "id": "mxtw9lqR2CLu",
    "outputId": "cdb42242-d929-4298-a93e-aeaed335c18c"
   },
   "outputs": [
    {
     "data": {
      "image/png": "[encoded data removed]",
      "text/plain": [
       "<Figure size 432x288 with 1 Axes>"
      ]
     },
     "metadata": {
      "needs_background": "light"
     },
     "output_type": "display_data"
    }
   ],
   "source": [
    "plt.plot(history.history['loss'])\n",
    "plt.title('LOSS')\n",
    "plt.show()"
   ]
  },
  {
   "cell_type": "code",
   "execution_count": 63,
   "metadata": {
    "id": "I71HQMeA2o1B"
   },
   "outputs": [],
   "source": [
    "y_predict = model.predict(X_train)"
   ]
  },
  {
   "cell_type": "code",
   "execution_count": 64,
   "metadata": {
    "colab": {
     "base_uri": "https://localhost:8080/",
     "height": 265
    },
    "id": "TUjOlgtj2w9H",
    "outputId": "7f2de6bf-69c0-4d43-ca62-f61796d9ccb7"
   },
   "outputs": [
    {
     "data": {
      "image/png": "[encoded data removed]",
      "text/plain": [
       "<Figure size 432x288 with 1 Axes>"
      ]
     },
     "metadata": {
      "needs_background": "light"
     },
     "output_type": "display_data"
    }
   ],
   "source": [
    "plt.scatter(X_train, y_train)\n",
    "plt.plot(X_train, y_predict, color='r')\n",
    "plt.show()"
   ]
  }
 ],
 "metadata": {
  "colab": {
   "collapsed_sections": [],
   "name": "LinearRegression_tf.ipynb",
   "provenance": []
  },
  "kernelspec": {
   "display_name": "Python 3 (ipykernel)",
   "language": "python",
   "name": "python3"
  },
  "language_info": {
   "name": "python"
  }
 },
 "nbformat": 4,
 "nbformat_minor": 1
}
