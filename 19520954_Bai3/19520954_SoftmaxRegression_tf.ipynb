{
  "nbformat": 4,
  "nbformat_minor": 0,
  "metadata": {
    "colab": {
      "name": "SoftmaxRegression_tf.ipynb",
      "provenance": []
    },
    "kernelspec": {
      "name": "python3",
      "display_name": "Python 3"
    },
    "language_info": {
      "name": "python"
    }
  },
  "cells": [
    {
      "cell_type": "markdown",
      "source": [
        "MSSV: 19520954\n",
        "\n",
        "Tên: Lê Thị Thanh Thanh"
      ],
      "metadata": {
        "id": "FdCMB-xJ289A"
      }
    },
    {
      "cell_type": "markdown",
      "source": [
        "# Các thư viện cần thiết"
      ],
      "metadata": {
        "id": "YbRUNLbj3MNS"
      }
    },
    {
      "cell_type": "code",
      "execution_count": 1,
      "metadata": {
        "id": "IkiVoeCb23R0"
      },
      "outputs": [],
      "source": [
        "import tensorflow as tf\n",
        "import numpy as np\n",
        "import pandas as pd\n",
        "from tensorflow import keras\n",
        "import matplotlib.pyplot as plt\n",
        "from sklearn.datasets import load_iris\n",
        "from sklearn.model_selection import train_test_split"
      ]
    },
    {
      "cell_type": "markdown",
      "source": [
        "# Dữ liệu iris (lấy 2 features sau)"
      ],
      "metadata": {
        "id": "JY6Ay78Lb3J8"
      }
    },
    {
      "cell_type": "code",
      "source": [
        "iris = load_iris()\n",
        "X = iris.data[:, 2:5]\n",
        "y = iris.target\n",
        "dataset = pd.DataFrame(data=np.concatenate((X, y.reshape(-1,1)),axis=1),columns=['petal length','petal width','target'])"
      ],
      "metadata": {
        "id": "jd4KAmGzb23e"
      },
      "execution_count": 8,
      "outputs": []
    },
    {
      "cell_type": "code",
      "source": [
        "dataset.tail()"
      ],
      "metadata": {
        "colab": {
          "base_uri": "https://localhost:8080/",
          "height": 206
        },
        "id": "1pl9rtVNDdH7",
        "outputId": "050ca57a-04ce-4939-9a28-82d763d555f9"
      },
      "execution_count": 9,
      "outputs": [
        {
          "output_type": "execute_result",
          "data": {
            "text/plain": [
              "     petal length  petal width  target\n",
              "145           5.2          2.3     2.0\n",
              "146           5.0          1.9     2.0\n",
              "147           5.2          2.0     2.0\n",
              "148           5.4          2.3     2.0\n",
              "149           5.1          1.8     2.0"
            ],
            "text/html": [
              "\n",
              "  <div id=\"df-fd4391f3-7e14-4434-ae49-9769884d9a2a\">\n",
              "    <div class=\"colab-df-container\">\n",
              "      <div>\n",
              "<style scoped>\n",
              "    .dataframe tbody tr th:only-of-type {\n",
              "        vertical-align: middle;\n",
              "    }\n",
              "\n",
              "    .dataframe tbody tr th {\n",
              "        vertical-align: top;\n",
              "    }\n",
              "\n",
              "    .dataframe thead th {\n",
              "        text-align: right;\n",
              "    }\n",
              "</style>\n",
              "<table border=\"1\" class=\"dataframe\">\n",
              "  <thead>\n",
              "    <tr style=\"text-align: right;\">\n",
              "      <th></th>\n",
              "      <th>petal length</th>\n",
              "      <th>petal width</th>\n",
              "      <th>target</th>\n",
              "    </tr>\n",
              "  </thead>\n",
              "  <tbody>\n",
              "    <tr>\n",
              "      <th>145</th>\n",
              "      <td>5.2</td>\n",
              "      <td>2.3</td>\n",
              "      <td>2.0</td>\n",
              "    </tr>\n",
              "    <tr>\n",
              "      <th>146</th>\n",
              "      <td>5.0</td>\n",
              "      <td>1.9</td>\n",
              "      <td>2.0</td>\n",
              "    </tr>\n",
              "    <tr>\n",
              "      <th>147</th>\n",
              "      <td>5.2</td>\n",
              "      <td>2.0</td>\n",
              "      <td>2.0</td>\n",
              "    </tr>\n",
              "    <tr>\n",
              "      <th>148</th>\n",
              "      <td>5.4</td>\n",
              "      <td>2.3</td>\n",
              "      <td>2.0</td>\n",
              "    </tr>\n",
              "    <tr>\n",
              "      <th>149</th>\n",
              "      <td>5.1</td>\n",
              "      <td>1.8</td>\n",
              "      <td>2.0</td>\n",
              "    </tr>\n",
              "  </tbody>\n",
              "</table>\n",
              "</div>\n",
              "      <button class=\"colab-df-convert\" onclick=\"convertToInteractive('df-fd4391f3-7e14-4434-ae49-9769884d9a2a')\"\n",
              "              title=\"Convert this dataframe to an interactive table.\"\n",
              "              style=\"display:none;\">\n",
              "        \n",
              "  <svg xmlns=\"http://www.w3.org/2000/svg\" height=\"24px\"viewBox=\"0 0 24 24\"\n",
              "       width=\"24px\">\n",
              "    <path d=\"M0 0h24v24H0V0z\" fill=\"none\"/>\n",
              "    <path d=\"M18.56 5.44l.94 2.06.94-2.06 2.06-.94-2.06-.94-.94-2.06-.94 2.06-2.06.94zm-11 1L8.5 8.5l.94-2.06 2.06-.94-2.06-.94L8.5 2.5l-.94 2.06-2.06.94zm10 10l.94 2.06.94-2.06 2.06-.94-2.06-.94-.94-2.06-.94 2.06-2.06.94z\"/><path d=\"M17.41 7.96l-1.37-1.37c-.4-.4-.92-.59-1.43-.59-.52 0-1.04.2-1.43.59L10.3 9.45l-7.72 7.72c-.78.78-.78 2.05 0 2.83L4 21.41c.39.39.9.59 1.41.59.51 0 1.02-.2 1.41-.59l7.78-7.78 2.81-2.81c.8-.78.8-2.07 0-2.86zM5.41 20L4 18.59l7.72-7.72 1.47 1.35L5.41 20z\"/>\n",
              "  </svg>\n",
              "      </button>\n",
              "      \n",
              "  <style>\n",
              "    .colab-df-container {\n",
              "      display:flex;\n",
              "      flex-wrap:wrap;\n",
              "      gap: 12px;\n",
              "    }\n",
              "\n",
              "    .colab-df-convert {\n",
              "      background-color: #E8F0FE;\n",
              "      border: none;\n",
              "      border-radius: 50%;\n",
              "      cursor: pointer;\n",
              "      display: none;\n",
              "      fill: #1967D2;\n",
              "      height: 32px;\n",
              "      padding: 0 0 0 0;\n",
              "      width: 32px;\n",
              "    }\n",
              "\n",
              "    .colab-df-convert:hover {\n",
              "      background-color: #E2EBFA;\n",
              "      box-shadow: 0px 1px 2px rgba(60, 64, 67, 0.3), 0px 1px 3px 1px rgba(60, 64, 67, 0.15);\n",
              "      fill: #174EA6;\n",
              "    }\n",
              "\n",
              "    [theme=dark] .colab-df-convert {\n",
              "      background-color: #3B4455;\n",
              "      fill: #D2E3FC;\n",
              "    }\n",
              "\n",
              "    [theme=dark] .colab-df-convert:hover {\n",
              "      background-color: #434B5C;\n",
              "      box-shadow: 0px 1px 3px 1px rgba(0, 0, 0, 0.15);\n",
              "      filter: drop-shadow(0px 1px 2px rgba(0, 0, 0, 0.3));\n",
              "      fill: #FFFFFF;\n",
              "    }\n",
              "  </style>\n",
              "\n",
              "      <script>\n",
              "        const buttonEl =\n",
              "          document.querySelector('#df-fd4391f3-7e14-4434-ae49-9769884d9a2a button.colab-df-convert');\n",
              "        buttonEl.style.display =\n",
              "          google.colab.kernel.accessAllowed ? 'block' : 'none';\n",
              "\n",
              "        async function convertToInteractive(key) {\n",
              "          const element = document.querySelector('#df-fd4391f3-7e14-4434-ae49-9769884d9a2a');\n",
              "          const dataTable =\n",
              "            await google.colab.kernel.invokeFunction('convertToInteractive',\n",
              "                                                     [key], {});\n",
              "          if (!dataTable) return;\n",
              "\n",
              "          const docLinkHtml = 'Like what you see? Visit the ' +\n",
              "            '<a target=\"_blank\" href=https://colab.research.google.com/notebooks/data_table.ipynb>data table notebook</a>'\n",
              "            + ' to learn more about interactive tables.';\n",
              "          element.innerHTML = '';\n",
              "          dataTable['output_type'] = 'display_data';\n",
              "          await google.colab.output.renderOutput(dataTable, element);\n",
              "          const docLink = document.createElement('div');\n",
              "          docLink.innerHTML = docLinkHtml;\n",
              "          element.appendChild(docLink);\n",
              "        }\n",
              "      </script>\n",
              "    </div>\n",
              "  </div>\n",
              "  "
            ]
          },
          "metadata": {},
          "execution_count": 9
        }
      ]
    },
    {
      "cell_type": "code",
      "source": [
        "X_train, X_test, y_train, y_test = train_test_split(X, y, train_size=0.8)"
      ],
      "metadata": {
        "id": "PgKnra_Xb_fF"
      },
      "execution_count": 10,
      "outputs": []
    },
    {
      "cell_type": "code",
      "source": [
        "plt.figure(2, figsize=(8, 6))\n",
        "plt.clf()\n",
        "\n",
        "# Plot the training points\n",
        "plt.scatter(X_train[:, 0], X_train[:, 1], c=y_train, cmap=plt.cm.Set1, edgecolor=\"k\")\n",
        "plt.title('TRAINING DATA')\n",
        "plt.xlabel(\"Sepal length\")\n",
        "plt.ylabel(\"Sepal width\")\n",
        "plt.show()"
      ],
      "metadata": {
        "colab": {
          "base_uri": "https://localhost:8080/",
          "height": 404
        },
        "id": "UijrGw30HKH5",
        "outputId": "8d776e17-ec75-495e-d086-7ae8ad925362"
      },
      "execution_count": 12,
      "outputs": [
        {
          "output_type": "display_data",
          "data": {
            "text/plain": [
              "<Figure size 576x432 with 1 Axes>"
            ],
            "image/png": "[encoded data removed]"
          },
          "metadata": {
            "needs_background": "light"
          }
        }
      ]
    },
    {
      "cell_type": "markdown",
      "source": [
        "# Softmax Regression"
      ],
      "metadata": {
        "id": "OncTvlkJcTCZ"
      }
    },
    {
      "cell_type": "code",
      "source": [
        "i = tf.keras.layers.Input(shape=(2))\n",
        "X = tf.keras.layers.Dense(3,activation='softmax')(i)\n",
        "model = tf.keras.models.Model(i,X)"
      ],
      "metadata": {
        "id": "P4IQukaXBxl2"
      },
      "execution_count": 13,
      "outputs": []
    },
    {
      "cell_type": "code",
      "source": [
        "model.compile(optimizer='sgd', loss=tf.keras.losses.sparse_categorical_crossentropy, metrics=['accuracy'])"
      ],
      "metadata": {
        "id": "l8lIdhhd1acS"
      },
      "execution_count": 14,
      "outputs": []
    },
    {
      "cell_type": "code",
      "source": [
        "model.summary()"
      ],
      "metadata": {
        "colab": {
          "base_uri": "https://localhost:8080/"
        },
        "id": "KlOMxSVs2VwX",
        "outputId": "59a6e043-fce0-45eb-be1a-028e4911128b"
      },
      "execution_count": 15,
      "outputs": [
        {
          "output_type": "stream",
          "name": "stdout",
          "text": [
            "Model: \"model\"\n",
            "_________________________________________________________________\n",
            " Layer (type)                Output Shape              Param #   \n",
            "=================================================================\n",
            " input_1 (InputLayer)        [(None, 2)]               0         \n",
            "                                                                 \n",
            " dense (Dense)               (None, 3)                 9         \n",
            "                                                                 \n",
            "=================================================================\n",
            "Total params: 9\n",
            "Trainable params: 9\n",
            "Non-trainable params: 0\n",
            "_________________________________________________________________\n"
          ]
        }
      ]
    },
    {
      "cell_type": "code",
      "source": [
        "history = model.fit(X_train, y_train.reshape(-1), epochs=200)"
      ],
      "metadata": {
        "colab": {
          "base_uri": "https://localhost:8080/"
        },
        "id": "1twaNpf811KZ",
        "outputId": "feebaaaa-991c-41a5-9bb9-e9ec630c7c53"
      },
      "execution_count": 16,
      "outputs": [
        {
          "output_type": "stream",
          "name": "stdout",
          "text": [
            "Epoch 1/200\n",
            "4/4 [==============================] - 1s 3ms/step - loss: 4.2844 - accuracy: 0.3583\n",
            "Epoch 2/200\n",
            "4/4 [==============================] - 0s 3ms/step - loss: 3.9335 - accuracy: 0.3583\n",
            "Epoch 3/200\n",
            "4/4 [==============================] - 0s 3ms/step - loss: 3.5940 - accuracy: 0.3583\n",
            "Epoch 4/200\n",
            "4/4 [==============================] - 0s 3ms/step - loss: 3.2659 - accuracy: 0.3583\n",
            "Epoch 5/200\n",
            "4/4 [==============================] - 0s 4ms/step - loss: 2.9454 - accuracy: 0.3583\n",
            "Epoch 6/200\n",
            "4/4 [==============================] - 0s 3ms/step - loss: 2.6385 - accuracy: 0.3583\n",
            "Epoch 7/200\n",
            "4/4 [==============================] - 0s 3ms/step - loss: 2.3443 - accuracy: 0.3583\n",
            "Epoch 8/200\n",
            "4/4 [==============================] - 0s 3ms/step - loss: 2.0664 - accuracy: 0.3583\n",
            "Epoch 9/200\n",
            "4/4 [==============================] - 0s 3ms/step - loss: 1.8156 - accuracy: 0.3583\n",
            "Epoch 10/200\n",
            "4/4 [==============================] - 0s 3ms/step - loss: 1.5922 - accuracy: 0.3583\n",
            "Epoch 11/200\n",
            "4/4 [==============================] - 0s 3ms/step - loss: 1.4062 - accuracy: 0.3583\n",
            "Epoch 12/200\n",
            "4/4 [==============================] - 0s 2ms/step - loss: 1.2671 - accuracy: 0.3583\n",
            "Epoch 13/200\n",
            "4/4 [==============================] - 0s 3ms/step - loss: 1.1640 - accuracy: 0.3583\n",
            "Epoch 14/200\n",
            "4/4 [==============================] - 0s 3ms/step - loss: 1.0977 - accuracy: 0.3583\n",
            "Epoch 15/200\n",
            "4/4 [==============================] - 0s 3ms/step - loss: 1.0554 - accuracy: 0.3583\n",
            "Epoch 16/200\n",
            "4/4 [==============================] - 0s 3ms/step - loss: 1.0321 - accuracy: 0.3583\n",
            "Epoch 17/200\n",
            "4/4 [==============================] - 0s 3ms/step - loss: 1.0181 - accuracy: 0.3583\n",
            "Epoch 18/200\n",
            "4/4 [==============================] - 0s 3ms/step - loss: 1.0066 - accuracy: 0.3500\n",
            "Epoch 19/200\n",
            "4/4 [==============================] - 0s 3ms/step - loss: 1.0012 - accuracy: 0.3167\n",
            "Epoch 20/200\n",
            "4/4 [==============================] - 0s 3ms/step - loss: 0.9970 - accuracy: 0.3083\n",
            "Epoch 21/200\n",
            "4/4 [==============================] - 0s 3ms/step - loss: 0.9955 - accuracy: 0.2500\n",
            "Epoch 22/200\n",
            "4/4 [==============================] - 0s 2ms/step - loss: 0.9916 - accuracy: 0.2750\n",
            "Epoch 23/200\n",
            "4/4 [==============================] - 0s 3ms/step - loss: 0.9882 - accuracy: 0.2250\n",
            "Epoch 24/200\n",
            "4/4 [==============================] - 0s 3ms/step - loss: 0.9854 - accuracy: 0.2333\n",
            "Epoch 25/200\n",
            "4/4 [==============================] - 0s 3ms/step - loss: 0.9838 - accuracy: 0.2417\n",
            "Epoch 26/200\n",
            "4/4 [==============================] - 0s 3ms/step - loss: 0.9820 - accuracy: 0.2250\n",
            "Epoch 27/200\n",
            "4/4 [==============================] - 0s 3ms/step - loss: 0.9784 - accuracy: 0.2333\n",
            "Epoch 28/200\n",
            "4/4 [==============================] - 0s 3ms/step - loss: 0.9770 - accuracy: 0.2333\n",
            "Epoch 29/200\n",
            "4/4 [==============================] - 0s 3ms/step - loss: 0.9740 - accuracy: 0.2500\n",
            "Epoch 30/200\n",
            "4/4 [==============================] - 0s 3ms/step - loss: 0.9720 - accuracy: 0.2333\n",
            "Epoch 31/200\n",
            "4/4 [==============================] - 0s 4ms/step - loss: 0.9691 - accuracy: 0.2500\n",
            "Epoch 32/200\n",
            "4/4 [==============================] - 0s 3ms/step - loss: 0.9674 - accuracy: 0.2583\n",
            "Epoch 33/200\n",
            "4/4 [==============================] - 0s 2ms/step - loss: 0.9657 - accuracy: 0.2583\n",
            "Epoch 34/200\n",
            "4/4 [==============================] - 0s 3ms/step - loss: 0.9627 - accuracy: 0.2667\n",
            "Epoch 35/200\n",
            "4/4 [==============================] - 0s 3ms/step - loss: 0.9608 - accuracy: 0.2667\n",
            "Epoch 36/200\n",
            "4/4 [==============================] - 0s 3ms/step - loss: 0.9596 - accuracy: 0.2833\n",
            "Epoch 37/200\n",
            "4/4 [==============================] - 0s 3ms/step - loss: 0.9566 - accuracy: 0.2833\n",
            "Epoch 38/200\n",
            "4/4 [==============================] - 0s 3ms/step - loss: 0.9548 - accuracy: 0.2667\n",
            "Epoch 39/200\n",
            "4/4 [==============================] - 0s 3ms/step - loss: 0.9527 - accuracy: 0.2750\n",
            "Epoch 40/200\n",
            "4/4 [==============================] - 0s 3ms/step - loss: 0.9541 - accuracy: 0.2833\n",
            "Epoch 41/200\n",
            "4/4 [==============================] - 0s 3ms/step - loss: 0.9478 - accuracy: 0.2583\n",
            "Epoch 42/200\n",
            "4/4 [==============================] - 0s 3ms/step - loss: 0.9461 - accuracy: 0.2500\n",
            "Epoch 43/200\n",
            "4/4 [==============================] - 0s 3ms/step - loss: 0.9452 - accuracy: 0.2500\n",
            "Epoch 44/200\n",
            "4/4 [==============================] - 0s 3ms/step - loss: 0.9417 - accuracy: 0.2750\n",
            "Epoch 45/200\n",
            "4/4 [==============================] - 0s 3ms/step - loss: 0.9422 - accuracy: 0.2833\n",
            "Epoch 46/200\n",
            "4/4 [==============================] - 0s 3ms/step - loss: 0.9370 - accuracy: 0.2667\n",
            "Epoch 47/200\n",
            "4/4 [==============================] - 0s 3ms/step - loss: 0.9357 - accuracy: 0.2833\n",
            "Epoch 48/200\n",
            "4/4 [==============================] - 0s 3ms/step - loss: 0.9330 - accuracy: 0.2750\n",
            "Epoch 49/200\n",
            "4/4 [==============================] - 0s 3ms/step - loss: 0.9310 - accuracy: 0.2833\n",
            "Epoch 50/200\n",
            "4/4 [==============================] - 0s 3ms/step - loss: 0.9287 - accuracy: 0.3000\n",
            "Epoch 51/200\n",
            "4/4 [==============================] - 0s 3ms/step - loss: 0.9276 - accuracy: 0.2833\n",
            "Epoch 52/200\n",
            "4/4 [==============================] - 0s 3ms/step - loss: 0.9266 - accuracy: 0.2917\n",
            "Epoch 53/200\n",
            "4/4 [==============================] - 0s 3ms/step - loss: 0.9226 - accuracy: 0.2833\n",
            "Epoch 54/200\n",
            "4/4 [==============================] - 0s 3ms/step - loss: 0.9253 - accuracy: 0.2917\n",
            "Epoch 55/200\n",
            "4/4 [==============================] - 0s 3ms/step - loss: 0.9199 - accuracy: 0.3167\n",
            "Epoch 56/200\n",
            "4/4 [==============================] - 0s 3ms/step - loss: 0.9170 - accuracy: 0.3083\n",
            "Epoch 57/200\n",
            "4/4 [==============================] - 0s 3ms/step - loss: 0.9159 - accuracy: 0.3083\n",
            "Epoch 58/200\n",
            "4/4 [==============================] - 0s 4ms/step - loss: 0.9126 - accuracy: 0.3250\n",
            "Epoch 59/200\n",
            "4/4 [==============================] - 0s 3ms/step - loss: 0.9129 - accuracy: 0.3333\n",
            "Epoch 60/200\n",
            "4/4 [==============================] - 0s 3ms/step - loss: 0.9093 - accuracy: 0.3500\n",
            "Epoch 61/200\n",
            "4/4 [==============================] - 0s 3ms/step - loss: 0.9074 - accuracy: 0.3667\n",
            "Epoch 62/200\n",
            "4/4 [==============================] - 0s 3ms/step - loss: 0.9059 - accuracy: 0.4250\n",
            "Epoch 63/200\n",
            "4/4 [==============================] - 0s 3ms/step - loss: 0.9068 - accuracy: 0.4250\n",
            "Epoch 64/200\n",
            "4/4 [==============================] - 0s 3ms/step - loss: 0.9020 - accuracy: 0.4833\n",
            "Epoch 65/200\n",
            "4/4 [==============================] - 0s 3ms/step - loss: 0.9010 - accuracy: 0.4917\n",
            "Epoch 66/200\n",
            "4/4 [==============================] - 0s 3ms/step - loss: 0.8992 - accuracy: 0.4583\n",
            "Epoch 67/200\n",
            "4/4 [==============================] - 0s 3ms/step - loss: 0.8958 - accuracy: 0.4833\n",
            "Epoch 68/200\n",
            "4/4 [==============================] - 0s 3ms/step - loss: 0.8952 - accuracy: 0.5583\n",
            "Epoch 69/200\n",
            "4/4 [==============================] - 0s 4ms/step - loss: 0.8923 - accuracy: 0.5250\n",
            "Epoch 70/200\n",
            "4/4 [==============================] - 0s 4ms/step - loss: 0.8912 - accuracy: 0.5500\n",
            "Epoch 71/200\n",
            "4/4 [==============================] - 0s 3ms/step - loss: 0.8883 - accuracy: 0.5583\n",
            "Epoch 72/200\n",
            "4/4 [==============================] - 0s 3ms/step - loss: 0.8867 - accuracy: 0.5750\n",
            "Epoch 73/200\n",
            "4/4 [==============================] - 0s 3ms/step - loss: 0.8858 - accuracy: 0.5667\n",
            "Epoch 74/200\n",
            "4/4 [==============================] - 0s 3ms/step - loss: 0.8832 - accuracy: 0.6000\n",
            "Epoch 75/200\n",
            "4/4 [==============================] - 0s 3ms/step - loss: 0.8810 - accuracy: 0.6000\n",
            "Epoch 76/200\n",
            "4/4 [==============================] - 0s 3ms/step - loss: 0.8806 - accuracy: 0.5750\n",
            "Epoch 77/200\n",
            "4/4 [==============================] - 0s 3ms/step - loss: 0.8783 - accuracy: 0.6083\n",
            "Epoch 78/200\n",
            "4/4 [==============================] - 0s 4ms/step - loss: 0.8766 - accuracy: 0.6167\n",
            "Epoch 79/200\n",
            "4/4 [==============================] - 0s 3ms/step - loss: 0.8746 - accuracy: 0.6000\n",
            "Epoch 80/200\n",
            "4/4 [==============================] - 0s 3ms/step - loss: 0.8725 - accuracy: 0.6167\n",
            "Epoch 81/200\n",
            "4/4 [==============================] - 0s 3ms/step - loss: 0.8713 - accuracy: 0.6250\n",
            "Epoch 82/200\n",
            "4/4 [==============================] - 0s 3ms/step - loss: 0.8697 - accuracy: 0.6250\n",
            "Epoch 83/200\n",
            "4/4 [==============================] - 0s 4ms/step - loss: 0.8682 - accuracy: 0.6333\n",
            "Epoch 84/200\n",
            "4/4 [==============================] - 0s 3ms/step - loss: 0.8667 - accuracy: 0.6333\n",
            "Epoch 85/200\n",
            "4/4 [==============================] - 0s 4ms/step - loss: 0.8641 - accuracy: 0.6333\n",
            "Epoch 86/200\n",
            "4/4 [==============================] - 0s 3ms/step - loss: 0.8650 - accuracy: 0.6417\n",
            "Epoch 87/200\n",
            "4/4 [==============================] - 0s 3ms/step - loss: 0.8616 - accuracy: 0.6750\n",
            "Epoch 88/200\n",
            "4/4 [==============================] - 0s 3ms/step - loss: 0.8589 - accuracy: 0.6583\n",
            "Epoch 89/200\n",
            "4/4 [==============================] - 0s 3ms/step - loss: 0.8581 - accuracy: 0.7167\n",
            "Epoch 90/200\n",
            "4/4 [==============================] - 0s 3ms/step - loss: 0.8577 - accuracy: 0.6500\n",
            "Epoch 91/200\n",
            "4/4 [==============================] - 0s 3ms/step - loss: 0.8537 - accuracy: 0.6500\n",
            "Epoch 92/200\n",
            "4/4 [==============================] - 0s 4ms/step - loss: 0.8529 - accuracy: 0.6583\n",
            "Epoch 93/200\n",
            "4/4 [==============================] - 0s 3ms/step - loss: 0.8503 - accuracy: 0.6667\n",
            "Epoch 94/200\n",
            "4/4 [==============================] - 0s 3ms/step - loss: 0.8488 - accuracy: 0.6667\n",
            "Epoch 95/200\n",
            "4/4 [==============================] - 0s 3ms/step - loss: 0.8502 - accuracy: 0.7250\n",
            "Epoch 96/200\n",
            "4/4 [==============================] - 0s 3ms/step - loss: 0.8466 - accuracy: 0.6417\n",
            "Epoch 97/200\n",
            "4/4 [==============================] - 0s 3ms/step - loss: 0.8461 - accuracy: 0.6750\n",
            "Epoch 98/200\n",
            "4/4 [==============================] - 0s 3ms/step - loss: 0.8442 - accuracy: 0.6583\n",
            "Epoch 99/200\n",
            "4/4 [==============================] - 0s 3ms/step - loss: 0.8413 - accuracy: 0.6583\n",
            "Epoch 100/200\n",
            "4/4 [==============================] - 0s 4ms/step - loss: 0.8402 - accuracy: 0.6500\n",
            "Epoch 101/200\n",
            "4/4 [==============================] - 0s 3ms/step - loss: 0.8377 - accuracy: 0.6583\n",
            "Epoch 102/200\n",
            "4/4 [==============================] - 0s 3ms/step - loss: 0.8375 - accuracy: 0.6583\n",
            "Epoch 103/200\n",
            "4/4 [==============================] - 0s 2ms/step - loss: 0.8355 - accuracy: 0.6583\n",
            "Epoch 104/200\n",
            "4/4 [==============================] - 0s 3ms/step - loss: 0.8328 - accuracy: 0.6583\n",
            "Epoch 105/200\n",
            "4/4 [==============================] - 0s 5ms/step - loss: 0.8315 - accuracy: 0.6833\n",
            "Epoch 106/200\n",
            "4/4 [==============================] - 0s 3ms/step - loss: 0.8300 - accuracy: 0.6917\n",
            "Epoch 107/200\n",
            "4/4 [==============================] - 0s 4ms/step - loss: 0.8282 - accuracy: 0.6750\n",
            "Epoch 108/200\n",
            "4/4 [==============================] - 0s 3ms/step - loss: 0.8267 - accuracy: 0.7167\n",
            "Epoch 109/200\n",
            "4/4 [==============================] - 0s 3ms/step - loss: 0.8251 - accuracy: 0.7000\n",
            "Epoch 110/200\n",
            "4/4 [==============================] - 0s 3ms/step - loss: 0.8243 - accuracy: 0.7750\n",
            "Epoch 111/200\n",
            "4/4 [==============================] - 0s 3ms/step - loss: 0.8221 - accuracy: 0.6667\n",
            "Epoch 112/200\n",
            "4/4 [==============================] - 0s 3ms/step - loss: 0.8210 - accuracy: 0.6833\n",
            "Epoch 113/200\n",
            "4/4 [==============================] - 0s 3ms/step - loss: 0.8197 - accuracy: 0.7250\n",
            "Epoch 114/200\n",
            "4/4 [==============================] - 0s 3ms/step - loss: 0.8189 - accuracy: 0.6667\n",
            "Epoch 115/200\n",
            "4/4 [==============================] - 0s 4ms/step - loss: 0.8170 - accuracy: 0.6833\n",
            "Epoch 116/200\n",
            "4/4 [==============================] - 0s 3ms/step - loss: 0.8155 - accuracy: 0.6750\n",
            "Epoch 117/200\n",
            "4/4 [==============================] - 0s 4ms/step - loss: 0.8134 - accuracy: 0.7083\n",
            "Epoch 118/200\n",
            "4/4 [==============================] - 0s 4ms/step - loss: 0.8117 - accuracy: 0.7667\n",
            "Epoch 119/200\n",
            "4/4 [==============================] - 0s 3ms/step - loss: 0.8104 - accuracy: 0.7083\n",
            "Epoch 120/200\n",
            "4/4 [==============================] - 0s 3ms/step - loss: 0.8092 - accuracy: 0.7583\n",
            "Epoch 121/200\n",
            "4/4 [==============================] - 0s 3ms/step - loss: 0.8075 - accuracy: 0.7333\n",
            "Epoch 122/200\n",
            "4/4 [==============================] - 0s 4ms/step - loss: 0.8064 - accuracy: 0.6667\n",
            "Epoch 123/200\n",
            "4/4 [==============================] - 0s 3ms/step - loss: 0.8058 - accuracy: 0.7083\n",
            "Epoch 124/200\n",
            "4/4 [==============================] - 0s 4ms/step - loss: 0.8044 - accuracy: 0.7250\n",
            "Epoch 125/200\n",
            "4/4 [==============================] - 0s 2ms/step - loss: 0.8018 - accuracy: 0.7083\n",
            "Epoch 126/200\n",
            "4/4 [==============================] - 0s 3ms/step - loss: 0.8003 - accuracy: 0.7667\n",
            "Epoch 127/200\n",
            "4/4 [==============================] - 0s 4ms/step - loss: 0.8003 - accuracy: 0.7167\n",
            "Epoch 128/200\n",
            "4/4 [==============================] - 0s 5ms/step - loss: 0.7985 - accuracy: 0.7833\n",
            "Epoch 129/200\n",
            "4/4 [==============================] - 0s 3ms/step - loss: 0.7966 - accuracy: 0.7083\n",
            "Epoch 130/200\n",
            "4/4 [==============================] - 0s 3ms/step - loss: 0.7953 - accuracy: 0.7417\n",
            "Epoch 131/200\n",
            "4/4 [==============================] - 0s 3ms/step - loss: 0.7944 - accuracy: 0.7167\n",
            "Epoch 132/200\n",
            "4/4 [==============================] - 0s 3ms/step - loss: 0.7927 - accuracy: 0.7083\n",
            "Epoch 133/200\n",
            "4/4 [==============================] - 0s 4ms/step - loss: 0.7919 - accuracy: 0.7500\n",
            "Epoch 134/200\n",
            "4/4 [==============================] - 0s 3ms/step - loss: 0.7900 - accuracy: 0.7667\n",
            "Epoch 135/200\n",
            "4/4 [==============================] - 0s 3ms/step - loss: 0.7882 - accuracy: 0.7417\n",
            "Epoch 136/200\n",
            "4/4 [==============================] - 0s 3ms/step - loss: 0.7869 - accuracy: 0.7583\n",
            "Epoch 137/200\n",
            "4/4 [==============================] - 0s 3ms/step - loss: 0.7867 - accuracy: 0.7417\n",
            "Epoch 138/200\n",
            "4/4 [==============================] - 0s 2ms/step - loss: 0.7844 - accuracy: 0.7500\n",
            "Epoch 139/200\n",
            "4/4 [==============================] - 0s 2ms/step - loss: 0.7841 - accuracy: 0.7417\n",
            "Epoch 140/200\n",
            "4/4 [==============================] - 0s 3ms/step - loss: 0.7839 - accuracy: 0.7833\n",
            "Epoch 141/200\n",
            "4/4 [==============================] - 0s 3ms/step - loss: 0.7832 - accuracy: 0.7000\n",
            "Epoch 142/200\n",
            "4/4 [==============================] - 0s 2ms/step - loss: 0.7801 - accuracy: 0.7583\n",
            "Epoch 143/200\n",
            "4/4 [==============================] - 0s 3ms/step - loss: 0.7775 - accuracy: 0.7417\n",
            "Epoch 144/200\n",
            "4/4 [==============================] - 0s 3ms/step - loss: 0.7773 - accuracy: 0.8000\n",
            "Epoch 145/200\n",
            "4/4 [==============================] - 0s 3ms/step - loss: 0.7768 - accuracy: 0.7250\n",
            "Epoch 146/200\n",
            "4/4 [==============================] - 0s 3ms/step - loss: 0.7749 - accuracy: 0.6917\n",
            "Epoch 147/200\n",
            "4/4 [==============================] - 0s 3ms/step - loss: 0.7733 - accuracy: 0.7417\n",
            "Epoch 148/200\n",
            "4/4 [==============================] - 0s 3ms/step - loss: 0.7715 - accuracy: 0.7583\n",
            "Epoch 149/200\n",
            "4/4 [==============================] - 0s 3ms/step - loss: 0.7713 - accuracy: 0.7000\n",
            "Epoch 150/200\n",
            "4/4 [==============================] - 0s 3ms/step - loss: 0.7694 - accuracy: 0.7250\n",
            "Epoch 151/200\n",
            "4/4 [==============================] - 0s 3ms/step - loss: 0.7677 - accuracy: 0.7750\n",
            "Epoch 152/200\n",
            "4/4 [==============================] - 0s 3ms/step - loss: 0.7673 - accuracy: 0.7583\n",
            "Epoch 153/200\n",
            "4/4 [==============================] - 0s 3ms/step - loss: 0.7668 - accuracy: 0.7750\n",
            "Epoch 154/200\n",
            "4/4 [==============================] - 0s 3ms/step - loss: 0.7637 - accuracy: 0.7750\n",
            "Epoch 155/200\n",
            "4/4 [==============================] - 0s 3ms/step - loss: 0.7632 - accuracy: 0.8083\n",
            "Epoch 156/200\n",
            "4/4 [==============================] - 0s 3ms/step - loss: 0.7619 - accuracy: 0.7250\n",
            "Epoch 157/200\n",
            "4/4 [==============================] - 0s 3ms/step - loss: 0.7608 - accuracy: 0.7583\n",
            "Epoch 158/200\n",
            "4/4 [==============================] - 0s 3ms/step - loss: 0.7608 - accuracy: 0.8083\n",
            "Epoch 159/200\n",
            "4/4 [==============================] - 0s 3ms/step - loss: 0.7598 - accuracy: 0.7667\n",
            "Epoch 160/200\n",
            "4/4 [==============================] - 0s 3ms/step - loss: 0.7583 - accuracy: 0.7667\n",
            "Epoch 161/200\n",
            "4/4 [==============================] - 0s 3ms/step - loss: 0.7555 - accuracy: 0.8250\n",
            "Epoch 162/200\n",
            "4/4 [==============================] - 0s 3ms/step - loss: 0.7543 - accuracy: 0.7750\n",
            "Epoch 163/200\n",
            "4/4 [==============================] - 0s 3ms/step - loss: 0.7531 - accuracy: 0.7833\n",
            "Epoch 164/200\n",
            "4/4 [==============================] - 0s 3ms/step - loss: 0.7519 - accuracy: 0.7667\n",
            "Epoch 165/200\n",
            "4/4 [==============================] - 0s 3ms/step - loss: 0.7527 - accuracy: 0.7500\n",
            "Epoch 166/200\n",
            "4/4 [==============================] - 0s 3ms/step - loss: 0.7498 - accuracy: 0.7417\n",
            "Epoch 167/200\n",
            "4/4 [==============================] - 0s 3ms/step - loss: 0.7493 - accuracy: 0.7500\n",
            "Epoch 168/200\n",
            "4/4 [==============================] - 0s 3ms/step - loss: 0.7482 - accuracy: 0.7583\n",
            "Epoch 169/200\n",
            "4/4 [==============================] - 0s 3ms/step - loss: 0.7466 - accuracy: 0.8250\n",
            "Epoch 170/200\n",
            "4/4 [==============================] - 0s 3ms/step - loss: 0.7466 - accuracy: 0.7917\n",
            "Epoch 171/200\n",
            "4/4 [==============================] - 0s 3ms/step - loss: 0.7455 - accuracy: 0.8083\n",
            "Epoch 172/200\n",
            "4/4 [==============================] - 0s 3ms/step - loss: 0.7444 - accuracy: 0.8000\n",
            "Epoch 173/200\n",
            "4/4 [==============================] - 0s 3ms/step - loss: 0.7431 - accuracy: 0.8667\n",
            "Epoch 174/200\n",
            "4/4 [==============================] - 0s 3ms/step - loss: 0.7414 - accuracy: 0.7333\n",
            "Epoch 175/200\n",
            "4/4 [==============================] - 0s 4ms/step - loss: 0.7399 - accuracy: 0.7750\n",
            "Epoch 176/200\n",
            "4/4 [==============================] - 0s 5ms/step - loss: 0.7384 - accuracy: 0.7583\n",
            "Epoch 177/200\n",
            "4/4 [==============================] - 0s 3ms/step - loss: 0.7374 - accuracy: 0.7917\n",
            "Epoch 178/200\n",
            "4/4 [==============================] - 0s 4ms/step - loss: 0.7361 - accuracy: 0.7833\n",
            "Epoch 179/200\n",
            "4/4 [==============================] - 0s 3ms/step - loss: 0.7353 - accuracy: 0.8083\n",
            "Epoch 180/200\n",
            "4/4 [==============================] - 0s 4ms/step - loss: 0.7340 - accuracy: 0.7583\n",
            "Epoch 181/200\n",
            "4/4 [==============================] - 0s 3ms/step - loss: 0.7336 - accuracy: 0.7667\n",
            "Epoch 182/200\n",
            "4/4 [==============================] - 0s 3ms/step - loss: 0.7327 - accuracy: 0.7667\n",
            "Epoch 183/200\n",
            "4/4 [==============================] - 0s 3ms/step - loss: 0.7311 - accuracy: 0.8667\n",
            "Epoch 184/200\n",
            "4/4 [==============================] - 0s 3ms/step - loss: 0.7309 - accuracy: 0.8417\n",
            "Epoch 185/200\n",
            "4/4 [==============================] - 0s 3ms/step - loss: 0.7291 - accuracy: 0.7750\n",
            "Epoch 186/200\n",
            "4/4 [==============================] - 0s 3ms/step - loss: 0.7285 - accuracy: 0.8083\n",
            "Epoch 187/200\n",
            "4/4 [==============================] - 0s 3ms/step - loss: 0.7264 - accuracy: 0.7917\n",
            "Epoch 188/200\n",
            "4/4 [==============================] - 0s 4ms/step - loss: 0.7265 - accuracy: 0.7750\n",
            "Epoch 189/200\n",
            "4/4 [==============================] - 0s 3ms/step - loss: 0.7251 - accuracy: 0.7667\n",
            "Epoch 190/200\n",
            "4/4 [==============================] - 0s 3ms/step - loss: 0.7237 - accuracy: 0.8583\n",
            "Epoch 191/200\n",
            "4/4 [==============================] - 0s 3ms/step - loss: 0.7229 - accuracy: 0.7917\n",
            "Epoch 192/200\n",
            "4/4 [==============================] - 0s 4ms/step - loss: 0.7210 - accuracy: 0.8000\n",
            "Epoch 193/200\n",
            "4/4 [==============================] - 0s 4ms/step - loss: 0.7202 - accuracy: 0.8167\n",
            "Epoch 194/200\n",
            "4/4 [==============================] - 0s 4ms/step - loss: 0.7203 - accuracy: 0.8167\n",
            "Epoch 195/200\n",
            "4/4 [==============================] - 0s 3ms/step - loss: 0.7184 - accuracy: 0.7583\n",
            "Epoch 196/200\n",
            "4/4 [==============================] - 0s 4ms/step - loss: 0.7175 - accuracy: 0.7917\n",
            "Epoch 197/200\n",
            "4/4 [==============================] - 0s 4ms/step - loss: 0.7164 - accuracy: 0.8250\n",
            "Epoch 198/200\n",
            "4/4 [==============================] - 0s 3ms/step - loss: 0.7152 - accuracy: 0.8000\n",
            "Epoch 199/200\n",
            "4/4 [==============================] - 0s 3ms/step - loss: 0.7149 - accuracy: 0.8000\n",
            "Epoch 200/200\n",
            "4/4 [==============================] - 0s 4ms/step - loss: 0.7157 - accuracy: 0.8250\n"
          ]
        }
      ]
    },
    {
      "cell_type": "code",
      "source": [
        "plt.plot(history.history['loss'])\n",
        "plt.title('TRAINING LOSS')\n",
        "plt.show()"
      ],
      "metadata": {
        "colab": {
          "base_uri": "https://localhost:8080/",
          "height": 281
        },
        "id": "mxtw9lqR2CLu",
        "outputId": "7e503c48-b85e-4cce-cb0a-3b78685b5b7c"
      },
      "execution_count": 17,
      "outputs": [
        {
          "output_type": "display_data",
          "data": {
            "text/plain": [
              "<Figure size 432x288 with 1 Axes>"
            ],
            "image/png": "[encoded data removed]"
          },
          "metadata": {
            "needs_background": "light"
          }
        }
      ]
    },
    {
      "cell_type": "code",
      "source": [
        "plt.plot(history.history['accuracy'])\n",
        "plt.title('TRAINING ACCURACY')\n",
        "plt.show()"
      ],
      "metadata": {
        "colab": {
          "base_uri": "https://localhost:8080/",
          "height": 281
        },
        "id": "5qc_06jIFEDC",
        "outputId": "a1ea197d-8cc4-42c2-c952-14b73686d8e8"
      },
      "execution_count": 18,
      "outputs": [
        {
          "output_type": "display_data",
          "data": {
            "text/plain": [
              "<Figure size 432x288 with 1 Axes>"
            ],
            "image/png": "[encoded data removed]"
          },
          "metadata": {
            "needs_background": "light"
          }
        }
      ]
    },
    {
      "cell_type": "code",
      "source": [
        "y_predict = np.argmax(model.predict(X_test), axis=1)"
      ],
      "metadata": {
        "id": "I71HQMeA2o1B"
      },
      "execution_count": 19,
      "outputs": []
    },
    {
      "cell_type": "code",
      "source": [
        "print(y_test)"
      ],
      "metadata": {
        "colab": {
          "base_uri": "https://localhost:8080/"
        },
        "id": "3j9-P7XmKgqa",
        "outputId": "3b3f290c-77de-41db-a278-7673788c0a47"
      },
      "execution_count": 20,
      "outputs": [
        {
          "output_type": "stream",
          "name": "stdout",
          "text": [
            "[2 2 2 2 1 0 2 2 2 1 0 0 2 2 0 1 0 1 1 0 1 2 2 2 0 1 0 2 2 0]\n"
          ]
        }
      ]
    },
    {
      "cell_type": "code",
      "source": [
        "print(y_predict)"
      ],
      "metadata": {
        "colab": {
          "base_uri": "https://localhost:8080/"
        },
        "id": "oWsHB0THKjjH",
        "outputId": "37034dc1-3c1f-48ae-d5e1-23dc67dcf5fe"
      },
      "execution_count": 21,
      "outputs": [
        {
          "output_type": "stream",
          "name": "stdout",
          "text": [
            "[2 2 2 2 1 0 2 2 2 2 0 0 2 2 0 2 0 2 2 0 1 2 2 2 0 2 0 2 2 0]\n"
          ]
        }
      ]
    },
    {
      "cell_type": "code",
      "source": [
        "_, (test_ax, predict_ax) = plt.subplots(ncols=2, figsize=(16, 8))\n",
        "# Plot the testing points\n",
        "test_ax.scatter(X_test[:, 0], X_test[:, 1], c=y_test, cmap=plt.cm.Set1)\n",
        "test_ax.set_title('TESTING DATA')\n",
        "\n",
        "# Plot the prediction points\n",
        "predict_ax.scatter(X_test[:, 0], X_test[:, 1], c=y_predict, cmap=plt.cm.Set1)\n",
        "_ = predict_ax.set_title('PREDICTION DATA')"
      ],
      "metadata": {
        "colab": {
          "base_uri": "https://localhost:8080/",
          "height": 499
        },
        "id": "TUjOlgtj2w9H",
        "outputId": "2a493aae-8fc3-4ab7-ab66-bb30b09c1298"
      },
      "execution_count": 22,
      "outputs": [
        {
          "output_type": "display_data",
          "data": {
            "text/plain": [
              "<Figure size 1152x576 with 2 Axes>"
            ],
            "image/png": "[encoded data removed]"
          },
          "metadata": {
            "needs_background": "light"
          }
        }
      ]
    }
  ]
}